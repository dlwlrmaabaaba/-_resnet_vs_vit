{
 "cells": [
  {
   "cell_type": "markdown",
   "metadata": {
    "id": "z0SypUdej-iJ"
   },
   "source": [
    "### Imporing Libraries"
   ]
  },
  {
   "cell_type": "code",
   "execution_count": 3,
   "metadata": {
    "execution": {
     "iopub.execute_input": "2024-06-04T11:10:34.012654Z",
     "iopub.status.busy": "2024-06-04T11:10:34.011894Z",
     "iopub.status.idle": "2024-06-04T11:10:34.018027Z",
     "shell.execute_reply": "2024-06-04T11:10:34.016942Z",
     "shell.execute_reply.started": "2024-06-04T11:10:34.012618Z"
    }
   },
   "outputs": [],
   "source": [
    "# import torch\n",
    "# import gc\n",
    "\n",
    "# # 删除所有的张量变量\n",
    "# for obj in gc.get_objects():\n",
    "#     try:\n",
    "#         if torch.is_tensor(obj) or (hasattr(obj, 'data') and torch.is_tensor(obj.data)):\n",
    "#             del obj\n",
    "#     except:\n",
    "#         pass\n",
    "\n",
    "# # 强制进行垃圾回收\n",
    "# gc.collect()\n",
    "\n",
    "# # 清理 PyTorch 的缓存\n",
    "# torch.cuda.empty_cache()\n"
   ]
  },
  {
   "cell_type": "code",
   "execution_count": 4,
   "metadata": {
    "execution": {
     "iopub.execute_input": "2024-06-04T11:10:34.020682Z",
     "iopub.status.busy": "2024-06-04T11:10:34.020319Z",
     "iopub.status.idle": "2024-06-04T11:10:50.819242Z",
     "shell.execute_reply": "2024-06-04T11:10:50.818051Z",
     "shell.execute_reply.started": "2024-06-04T11:10:34.020650Z"
    }
   },
   "outputs": [
    {
     "name": "stderr",
     "output_type": "stream",
     "text": [
      "/opt/conda/lib/python3.10/pty.py:89: RuntimeWarning: os.fork() was called. os.fork() is incompatible with multithreaded code, and JAX is multithreaded, so this will likely lead to a deadlock.\n",
      "  pid, fd = os.forkpty()\n"
     ]
    },
    {
     "name": "stdout",
     "output_type": "stream",
     "text": [
      "Collecting ml_collections\n",
      "  Downloading ml_collections-0.1.1.tar.gz (77 kB)\n",
      "\u001b[2K     \u001b[90m━━━━━━━━━━━━━━━━━━━━━━━━━━━━━━━━━━━━━━━\u001b[0m \u001b[32m77.9/77.9 kB\u001b[0m \u001b[31m864.8 kB/s\u001b[0m eta \u001b[36m0:00:00\u001b[0ma \u001b[36m0:00:01\u001b[0m\n",
      "\u001b[?25h  Preparing metadata (setup.py) ... \u001b[?25ldone\n",
      "\u001b[?25hRequirement already satisfied: absl-py in /opt/conda/lib/python3.10/site-packages (from ml_collections) (1.4.0)\n",
      "Requirement already satisfied: PyYAML in /opt/conda/lib/python3.10/site-packages (from ml_collections) (6.0.1)\n",
      "Requirement already satisfied: six in /opt/conda/lib/python3.10/site-packages (from ml_collections) (1.16.0)\n",
      "Collecting contextlib2 (from ml_collections)\n",
      "  Downloading contextlib2-21.6.0-py2.py3-none-any.whl.metadata (4.1 kB)\n",
      "Downloading contextlib2-21.6.0-py2.py3-none-any.whl (13 kB)\n",
      "Building wheels for collected packages: ml_collections\n",
      "  Building wheel for ml_collections (setup.py) ... \u001b[?25ldone\n",
      "\u001b[?25h  Created wheel for ml_collections: filename=ml_collections-0.1.1-py3-none-any.whl size=94507 sha256=6ed29df3befb5edfecfaa5bf28f5bbd8661058efa2acb4c943ddedec97e44877\n",
      "  Stored in directory: /root/.cache/pip/wheels/7b/89/c9/a9b87790789e94aadcfc393c283e3ecd5ab916aed0a31be8fe\n",
      "Successfully built ml_collections\n",
      "\u001b[33mWARNING: Error parsing requirements for aiohttp: [Errno 2] No such file or directory: '/opt/conda/lib/python3.10/site-packages/aiohttp-3.9.1.dist-info/METADATA'\u001b[0m\u001b[33m\n",
      "\u001b[0mInstalling collected packages: contextlib2, ml_collections\n",
      "Successfully installed contextlib2-21.6.0 ml_collections-0.1.1\n"
     ]
    }
   ],
   "source": [
    "!pip install ml_collections"
   ]
  },
  {
   "cell_type": "code",
   "execution_count": 1,
   "metadata": {},
   "outputs": [
    {
     "name": "stderr",
     "output_type": "stream",
     "text": [
      "2024-06-07 11:46:00.734409: I tensorflow/core/util/port.cc:113] oneDNN custom operations are on. You may see slightly different numerical results due to floating-point round-off errors from different computation orders. To turn them off, set the environment variable `TF_ENABLE_ONEDNN_OPTS=0`.\n",
      "2024-06-07 11:46:00.780841: I tensorflow/core/platform/cpu_feature_guard.cc:210] This TensorFlow binary is optimized to use available CPU instructions in performance-critical operations.\n",
      "To enable the following instructions: AVX2 AVX512F AVX512_VNNI AVX512_BF16 FMA, in other operations, rebuild TensorFlow with the appropriate compiler flags.\n",
      "2024-06-07 11:46:01.567857: W tensorflow/compiler/tf2tensorrt/utils/py_utils.cc:38] TF-TRT Warning: Could not find TensorRT\n"
     ]
    }
   ],
   "source": [
    "import keras\n",
    "import cv2\n",
    "import keras.backend as K\n",
    "from keras.datasets import cifar10, cifar100\n",
    "from keras.models import Sequential\n",
    "from keras.layers import Dense, Dropout, BatchNormalization, Flatten, GlobalMaxPooling2D, GlobalAveragePooling2D\n",
    "from keras.optimizers import Adam, SGD\n",
    "from keras.callbacks import EarlyStopping, ReduceLROnPlateau\n",
    "from tensorflow.keras.preprocessing.image import ImageDataGenerator\n",
    "from keras.utils import to_categorical\n",
    "\n",
    "import albumentations as albu\n",
    "\n",
    "from __future__ import absolute_import, division, print_function \n",
    "import ml_collections"
   ]
  },
  {
   "cell_type": "code",
   "execution_count": 2,
   "metadata": {
    "id": "Z21XxvYdjVbk"
   },
   "outputs": [],
   "source": [
    "import os, copy, logging, math, random, time, typing, io\n",
    "import numpy as np\n",
    "import matplotlib.pyplot as plt\n",
    "\n",
    "\n",
    "from sklearn.model_selection import train_test_split, StratifiedShuffleSplit\n",
    "from sklearn.metrics import accuracy_score\n",
    "from sklearn.decomposition import PCA\n",
    "from sklearn.preprocessing import StandardScaler\n",
    "from scipy import ndimage\n",
    "\n",
    "import torch\n",
    "import torch.nn as nn\n",
    "from torch.nn import CrossEntropyLoss, Dropout, Softmax, Linear, Conv2d, LayerNorm\n",
    "from torch.nn.modules.utils import _pair\n",
    "import torchvision\n",
    "from torchvision import transforms, datasets\n",
    "import torch.distributed as dist\n",
    "from torch.utils.tensorboard import SummaryWriter\n",
    "from torch.utils.data import DataLoader, RandomSampler, DistributedSampler, SequentialSampler\n",
    "from torch.optim.lr_scheduler import LambdaLR\n",
    "import torchvision.models as models\n",
    "import torch.optim as optim\n",
    "from torch.optim import lr_scheduler\n",
    "from torchvision import utils\n",
    "import torch.nn.functional as F\n",
    "from torch.autograd import Variable\n",
    "\n",
    "from matplotlib.colors import LogNorm \n",
    "\n",
    "from urllib.request import urlretrieve\n",
    "from PIL import Image\n",
    "from os.path import join as pjoin\n",
    "\n",
    "from tqdm import tqdm\n",
    "from datetime import timedelta\n",
    "\n"
   ]
  },
  {
   "cell_type": "markdown",
   "metadata": {
    "id": "QAznk3CPp5HZ"
   },
   "source": [
    "### Download Pre-trained model"
   ]
  },
  {
   "cell_type": "code",
   "execution_count": 7,
   "metadata": {
    "colab": {
     "base_uri": "https://localhost:8080/"
    },
    "execution": {
     "iopub.execute_input": "2024-06-04T11:10:52.350695Z",
     "iopub.status.busy": "2024-06-04T11:10:52.349956Z",
     "iopub.status.idle": "2024-06-04T11:11:07.980619Z",
     "shell.execute_reply": "2024-06-04T11:11:07.979274Z",
     "shell.execute_reply.started": "2024-06-04T11:10:52.350668Z"
    },
    "id": "euVCVZTXfQ3P",
    "outputId": "8113ab4c-321d-491f-bede-8b1738596a03"
   },
   "outputs": [
    {
     "name": "stderr",
     "output_type": "stream",
     "text": [
      "/opt/conda/lib/python3.10/pty.py:89: RuntimeWarning: os.fork() was called. os.fork() is incompatible with multithreaded code, and JAX is multithreaded, so this will likely lead to a deadlock.\n",
      "  pid, fd = os.forkpty()\n"
     ]
    },
    {
     "name": "stdout",
     "output_type": "stream",
     "text": [
      "--2024-06-04 11:10:53--  https://storage.googleapis.com/vit_models/imagenet21k/ViT-B_16.npz\n",
      "Resolving storage.googleapis.com (storage.googleapis.com)... 74.125.126.207, 74.125.132.207, 74.125.201.207, ...\n",
      "Connecting to storage.googleapis.com (storage.googleapis.com)|74.125.126.207|:443... connected.\n",
      "HTTP request sent, awaiting response... 200 OK\n",
      "Length: 412815506 (394M) [application/octet-stream]\n",
      "Saving to: 'ViT-B_16.npz.1'\n",
      "\n",
      "ViT-B_16.npz.1      100%[===================>] 393.69M  32.3MB/s    in 13s     \n",
      "\n",
      "2024-06-04 11:11:07 (29.2 MB/s) - 'ViT-B_16.npz.1' saved [412815506/412815506]\n",
      "\n"
     ]
    }
   ],
   "source": [
    "!wget https://storage.googleapis.com/vit_models/imagenet21k/ViT-B_16.npz"
   ]
  },
  {
   "cell_type": "markdown",
   "metadata": {
    "id": "3XPWwVnKxLAW"
   },
   "source": [
    "### Check GPU Access"
   ]
  },
  {
   "cell_type": "code",
   "execution_count": 3,
   "metadata": {
    "colab": {
     "base_uri": "https://localhost:8080/"
    },
    "id": "Mi3Rm8M7xGoP",
    "outputId": "5f672e69-0f3b-4068-89dc-ac23e2cedbf1"
   },
   "outputs": [
    {
     "name": "stdout",
     "output_type": "stream",
     "text": [
      "GPU:  NVIDIA GeForce RTX 4090 D\n"
     ]
    }
   ],
   "source": [
    "if torch.cuda.is_available():    \n",
    "    device = torch.device(\"cuda\")\n",
    "    print('GPU: ', torch.cuda.get_device_name(0))\n",
    "\n",
    "else:\n",
    "    device = torch.device(\"cpu\")\n",
    "    print('No GPU available')"
   ]
  },
  {
   "cell_type": "markdown",
   "metadata": {
    "id": "JO2357Cexfgw"
   },
   "source": [
    "### Configurations"
   ]
  },
  {
   "cell_type": "code",
   "execution_count": 4,
   "metadata": {
    "id": "5phne5zGxGPI"
   },
   "outputs": [],
   "source": [
    "def get_testing():\n",
    "    '''\n",
    "    Returns a minimal configuration for testing\n",
    "    '''\n",
    "    config = ml_collections.ConfigDict()\n",
    "    config.patches = ml_collections.ConfigDict({'size': (16, 16)})\n",
    "    config.hidden_size = 1\n",
    "    config.transformer = ml_collections.ConfigDict()\n",
    "    config.transformer.mlp_dim = 1\n",
    "    config.transformer.num_heads = 1\n",
    "    config.transformer.num_layers = 1\n",
    "    config.transformer.attention_dropout_rate = 0.0\n",
    "    config.transformer.dropout_rate = 0.1\n",
    "    config.classifier = 'token'\n",
    "    config.representation_size = None\n",
    "    return config\n",
    "\n",
    "def get_b16_config():\n",
    "    '''\n",
    "    Returns the ViT-B/16 configuration\n",
    "    '''\n",
    "    config = ml_collections.ConfigDict()\n",
    "    config.patches = ml_collections.ConfigDict({'size': (16, 16)})\n",
    "    config.hidden_size = 768\n",
    "    config.transformer = ml_collections.ConfigDict()\n",
    "    config.transformer.mlp_dim = 3072\n",
    "    config.transformer.num_heads = 12\n",
    "    config.transformer.num_layers = 12\n",
    "    config.transformer.attention_dropout_rate = 0.0\n",
    "    config.transformer.dropout_rate = 0.1\n",
    "    config.classifier = 'token'\n",
    "    config.representation_size = None\n",
    "    return config\n",
    "\n",
    "def get_b32_config():\n",
    "    '''\n",
    "    Returns the ViT-B/32 configuration\n",
    "    '''\n",
    "    config = get_b16_config()\n",
    "    config.patches.size = (32, 32)\n",
    "    return config\n",
    "\n",
    "def get_l16_config():\n",
    "    '''\n",
    "    Returns the ViT-L/16 configuration\n",
    "    '''\n",
    "    config = ml_collections.ConfigDict()\n",
    "    config.patches = ml_collections.ConfigDict({'size': (16, 16)})\n",
    "    config.hidden_size = 1024\n",
    "    config.transformer = ml_collections.ConfigDict()\n",
    "    config.transformer.mlp_dim = 4096\n",
    "    config.transformer.num_heads = 16\n",
    "    config.transformer.num_layers = 24\n",
    "    config.transformer.attention_dropout_rate = 0.0\n",
    "    config.transformer.dropout_rate = 0.1\n",
    "    config.classifier = 'token'\n",
    "    config.representation_size = None\n",
    "    return config\n",
    "\n",
    "def get_l32_config():\n",
    "    '''\n",
    "    Returns the ViT-L/32 configuration\n",
    "    '''\n",
    "    config = get_l16_config()\n",
    "    config.patches.size = (32, 32)\n",
    "    return config\n",
    "\n",
    "def get_h14_config():\n",
    "    '''\n",
    "    Returns the ViT-L/16 configuration\n",
    "    '''\n",
    "    config = ml_collections.ConfigDict()\n",
    "    config.patches = ml_collections.ConfigDict({'size': (14, 14)})\n",
    "    config.hidden_size = 1280\n",
    "    config.transformer = ml_collections.ConfigDict()\n",
    "    config.transformer.mlp_dim = 5120\n",
    "    config.transformer.num_heads = 16\n",
    "    config.transformer.num_layers = 32\n",
    "    config.transformer.attention_dropout_rate = 0.0\n",
    "    config.transformer.dropout_rate = 0.1\n",
    "    config.classifier = 'token'\n",
    "    config.representation_size = None\n",
    "    return config"
   ]
  },
  {
   "cell_type": "markdown",
   "metadata": {
    "id": "wdOnxwzGy0zj"
   },
   "source": [
    "### Model Architecture"
   ]
  },
  {
   "cell_type": "code",
   "execution_count": 5,
   "metadata": {
    "id": "vTNAlJm9xtvf"
   },
   "outputs": [],
   "source": [
    "logger = logging.getLogger(__name__)\n",
    "\n",
    "ATTENTION_Q = \"MultiHeadDotProductAttention_1/query\"\n",
    "ATTENTION_K = \"MultiHeadDotProductAttention_1/key\"\n",
    "ATTENTION_V = \"MultiHeadDotProductAttention_1/value\"\n",
    "ATTENTION_OUT = \"MultiHeadDotProductAttention_1/out\"\n",
    "FC_0 = \"MlpBlock_3/Dense_0\"\n",
    "FC_1 = \"MlpBlock_3/Dense_1\"\n",
    "ATTENTION_NORM = \"LayerNorm_0\"\n",
    "MLP_NORM = \"LayerNorm_2\"\n",
    "\n",
    "\n",
    "def np2th(weights):\n",
    "    \"\"\"Possibly convert HWIO to OIHW.\"\"\"\n",
    "    if weights.ndim == 4:\n",
    "        weights = weights.transpose([3, 2, 0, 1])\n",
    "    return torch.from_numpy(weights)\n",
    "\n",
    "def swish(x):\n",
    "    return x * torch.sigmoid(x)\n",
    "\n",
    "ACT2FN = {\"gelu\": torch.nn.functional.gelu, \"relu\": torch.nn.functional.relu, \"swish\": swish}\n",
    "\n",
    "\n",
    "class Attention(nn.Module):\n",
    "    def __init__(self, config, vis):\n",
    "        super(Attention, self).__init__()\n",
    "        self.vis = vis\n",
    "        self.num_attention_heads = config.transformer[\"num_heads\"]\n",
    "        self.attention_head_size = int(config.hidden_size / self.num_attention_heads)\n",
    "        self.all_head_size = self.num_attention_heads * self.attention_head_size\n",
    "\n",
    "        self.query = Linear(config.hidden_size, self.all_head_size)\n",
    "        self.key = Linear(config.hidden_size, self.all_head_size)\n",
    "        self.value = Linear(config.hidden_size, self.all_head_size)\n",
    "\n",
    "        self.out = Linear(config.hidden_size, config.hidden_size)\n",
    "        self.attn_dropout = Dropout(config.transformer[\"attention_dropout_rate\"])\n",
    "        self.proj_dropout = Dropout(config.transformer[\"attention_dropout_rate\"])\n",
    "\n",
    "        self.softmax = Softmax(dim=-1)\n",
    "\n",
    "    def transpose_for_scores(self, x):\n",
    "        new_x_shape = x.size()[:-1] + (self.num_attention_heads, self.attention_head_size)\n",
    "        x = x.view(*new_x_shape)\n",
    "        return x.permute(0, 2, 1, 3)\n",
    "\n",
    "    def forward(self, hidden_states):\n",
    "        mixed_query_layer = self.query(hidden_states)\n",
    "        mixed_key_layer = self.key(hidden_states)\n",
    "        mixed_value_layer = self.value(hidden_states)\n",
    "\n",
    "        query_layer = self.transpose_for_scores(mixed_query_layer)\n",
    "        key_layer = self.transpose_for_scores(mixed_key_layer)\n",
    "        value_layer = self.transpose_for_scores(mixed_value_layer)\n",
    "\n",
    "        attention_scores = torch.matmul(query_layer, key_layer.transpose(-1, -2))\n",
    "        attention_scores = attention_scores / math.sqrt(self.attention_head_size)\n",
    "        attention_probs = self.softmax(attention_scores)\n",
    "        weights = attention_probs if self.vis else None\n",
    "        attention_probs = self.attn_dropout(attention_probs)\n",
    "\n",
    "        context_layer = torch.matmul(attention_probs, value_layer)\n",
    "        context_layer = context_layer.permute(0, 2, 1, 3).contiguous()\n",
    "        new_context_layer_shape = context_layer.size()[:-2] + (self.all_head_size,)\n",
    "        context_layer = context_layer.view(*new_context_layer_shape)\n",
    "        attention_output = self.out(context_layer)\n",
    "        attention_output = self.proj_dropout(attention_output)\n",
    "        return attention_output, weights\n",
    "\n",
    "\n",
    "class Mlp(nn.Module):\n",
    "    def __init__(self, config):\n",
    "        super(Mlp, self).__init__()\n",
    "        self.fc1 = Linear(config.hidden_size, config.transformer[\"mlp_dim\"])\n",
    "        self.fc2 = Linear(config.transformer[\"mlp_dim\"], config.hidden_size)\n",
    "        self.act_fn = ACT2FN[\"gelu\"]\n",
    "        self.dropout = Dropout(config.transformer[\"dropout_rate\"])\n",
    "\n",
    "        self._init_weights()\n",
    "\n",
    "    def _init_weights(self):\n",
    "        nn.init.xavier_uniform_(self.fc1.weight)\n",
    "        nn.init.xavier_uniform_(self.fc2.weight)\n",
    "        nn.init.normal_(self.fc1.bias, std=1e-6)\n",
    "        nn.init.normal_(self.fc2.bias, std=1e-6)\n",
    "\n",
    "    def forward(self, x):\n",
    "        x = self.fc1(x)\n",
    "        x = self.act_fn(x)\n",
    "        x = self.dropout(x)\n",
    "        x = self.fc2(x)\n",
    "        x = self.dropout(x)\n",
    "        return x\n",
    "\n",
    "\n",
    "class Embeddings(nn.Module):\n",
    "    '''\n",
    "    Construct the embeddings from patch, position embeddings\n",
    "    '''\n",
    "    def __init__(self, config, img_size, in_channels=3):\n",
    "        super(Embeddings, self).__init__()\n",
    "        img_size = _pair(img_size)\n",
    "        patch_size = _pair(config.patches[\"size\"])\n",
    "        n_patches = (img_size[0]//patch_size[0]) * (img_size[1]//patch_size[1])\n",
    "\n",
    "        self.patch_embeddings = Conv2d(in_channels=in_channels,\n",
    "                                       out_channels=config.hidden_size,\n",
    "                                       kernel_size=patch_size,\n",
    "                                       stride=patch_size)\n",
    "        self.position_embeddings = nn.Parameter(torch.zeros(1, n_patches+1, config.hidden_size))\n",
    "        self.cls_token = nn.Parameter(torch.zeros(1, 1, config.hidden_size))\n",
    "\n",
    "        self.dropout = Dropout(config.transformer[\"dropout_rate\"])\n",
    "\n",
    "    def forward(self, x):\n",
    "        B = x.shape[0]\n",
    "        cls_tokens = self.cls_token.expand(B, -1, -1)\n",
    "\n",
    "        x = self.patch_embeddings(x)\n",
    "        x = x.flatten(2)\n",
    "        x = x.transpose(-1, -2)\n",
    "        x = torch.cat((cls_tokens, x), dim=1)\n",
    "\n",
    "        embeddings = x + self.position_embeddings\n",
    "        embeddings = self.dropout(embeddings)\n",
    "        return embeddings\n",
    "\n",
    "\n",
    "class Block(nn.Module):\n",
    "    def __init__(self, config, vis):\n",
    "        super(Block, self).__init__()\n",
    "        self.hidden_size = config.hidden_size\n",
    "        self.attention_norm = LayerNorm(config.hidden_size, eps=1e-6)\n",
    "        self.ffn_norm = LayerNorm(config.hidden_size, eps=1e-6)\n",
    "        self.ffn = Mlp(config)\n",
    "        self.attn = Attention(config, vis)\n",
    "\n",
    "    def forward(self, x):\n",
    "        h = x\n",
    "        x = self.attention_norm(x)\n",
    "        x, weights = self.attn(x)\n",
    "        x = x + h\n",
    "\n",
    "        h = x\n",
    "        x = self.ffn_norm(x)\n",
    "        x = self.ffn(x)\n",
    "        x = x + h\n",
    "        return x, weights\n",
    "\n",
    "    def load_from(self, weights, n_block):\n",
    "        ROOT = f\"Transformer/encoderblock_{n_block}\"\n",
    "        with torch.no_grad():\n",
    "            query_weight = np2th(weights[pjoin(ROOT, ATTENTION_Q, \"kernel\")]).view(self.hidden_size, self.hidden_size).t()\n",
    "            key_weight = np2th(weights[pjoin(ROOT, ATTENTION_K, \"kernel\")]).view(self.hidden_size, self.hidden_size).t()\n",
    "            value_weight = np2th(weights[pjoin(ROOT, ATTENTION_V, \"kernel\")]).view(self.hidden_size, self.hidden_size).t()\n",
    "            out_weight = np2th(weights[pjoin(ROOT, ATTENTION_OUT, \"kernel\")]).view(self.hidden_size, self.hidden_size).t()\n",
    "\n",
    "            query_bias = np2th(weights[pjoin(ROOT, ATTENTION_Q, \"bias\")]).view(-1)\n",
    "            key_bias = np2th(weights[pjoin(ROOT, ATTENTION_K, \"bias\")]).view(-1)\n",
    "            value_bias = np2th(weights[pjoin(ROOT, ATTENTION_V, \"bias\")]).view(-1)\n",
    "            out_bias = np2th(weights[pjoin(ROOT, ATTENTION_OUT, \"bias\")]).view(-1)\n",
    "\n",
    "            self.attn.query.weight.copy_(query_weight)\n",
    "            self.attn.key.weight.copy_(key_weight)\n",
    "            self.attn.value.weight.copy_(value_weight)\n",
    "            self.attn.out.weight.copy_(out_weight)\n",
    "            self.attn.query.bias.copy_(query_bias)\n",
    "            self.attn.key.bias.copy_(key_bias)\n",
    "            self.attn.value.bias.copy_(value_bias)\n",
    "            self.attn.out.bias.copy_(out_bias)\n",
    "\n",
    "            mlp_weight_0 = np2th(weights[pjoin(ROOT, FC_0, \"kernel\")]).t()\n",
    "            mlp_weight_1 = np2th(weights[pjoin(ROOT, FC_1, \"kernel\")]).t()\n",
    "            mlp_bias_0 = np2th(weights[pjoin(ROOT, FC_0, \"bias\")]).t()\n",
    "            mlp_bias_1 = np2th(weights[pjoin(ROOT, FC_1, \"bias\")]).t()\n",
    "\n",
    "            self.ffn.fc1.weight.copy_(mlp_weight_0)\n",
    "            self.ffn.fc2.weight.copy_(mlp_weight_1)\n",
    "            self.ffn.fc1.bias.copy_(mlp_bias_0)\n",
    "            self.ffn.fc2.bias.copy_(mlp_bias_1)\n",
    "\n",
    "            self.attention_norm.weight.copy_(np2th(weights[pjoin(ROOT, ATTENTION_NORM, \"scale\")]))\n",
    "            self.attention_norm.bias.copy_(np2th(weights[pjoin(ROOT, ATTENTION_NORM, \"bias\")]))\n",
    "            self.ffn_norm.weight.copy_(np2th(weights[pjoin(ROOT, MLP_NORM, \"scale\")]))\n",
    "            self.ffn_norm.bias.copy_(np2th(weights[pjoin(ROOT, MLP_NORM, \"bias\")]))\n",
    "\n",
    "\n",
    "class Encoder(nn.Module):\n",
    "    def __init__(self, config, vis):\n",
    "        super(Encoder, self).__init__()\n",
    "        self.vis = vis\n",
    "        self.layer = nn.ModuleList()\n",
    "        self.encoder_norm = LayerNorm(config.hidden_size, eps=1e-6)\n",
    "        for _ in range(config.transformer[\"num_layers\"]):\n",
    "            layer = Block(config, vis)\n",
    "            self.layer.append(copy.deepcopy(layer))\n",
    "\n",
    "    def forward(self, hidden_states):\n",
    "        attn_weights = []\n",
    "        for layer_block in self.layer:\n",
    "            hidden_states, weights = layer_block(hidden_states)\n",
    "            if self.vis:\n",
    "                attn_weights.append(weights)\n",
    "        encoded = self.encoder_norm(hidden_states)\n",
    "        return encoded, attn_weights\n",
    "\n",
    "\n",
    "class Transformer(nn.Module):\n",
    "    def __init__(self, config, img_size, vis):\n",
    "        super(Transformer, self).__init__()\n",
    "        self.embeddings = Embeddings(config, img_size=img_size)\n",
    "        self.encoder = Encoder(config, vis)\n",
    "\n",
    "    def forward(self, input_ids):\n",
    "        embedding_output = self.embeddings(input_ids)\n",
    "        encoded, attn_weights = self.encoder(embedding_output)\n",
    "        return encoded, attn_weights\n",
    "\n",
    "\n",
    "class VisionTransformer(nn.Module):\n",
    "    def __init__(self, config, img_size=224, num_classes=21843, zero_head=False, vis=False):\n",
    "        super(VisionTransformer, self).__init__()\n",
    "        self.num_classes = num_classes\n",
    "        self.zero_head = zero_head\n",
    "        self.classifier = config.classifier\n",
    "\n",
    "        self.transformer = Transformer(config, img_size, vis)\n",
    "        self.head = Linear(config.hidden_size, num_classes)\n",
    "\n",
    "    def forward(self, x, labels=None):\n",
    "        x, attn_weights = self.transformer(x)\n",
    "        logits = self.head(x[:, 0])\n",
    "\n",
    "        if labels is not None:\n",
    "            loss_fct = CrossEntropyLoss()\n",
    "            loss = loss_fct(logits.view(-1, self.num_classes), labels.view(-1))\n",
    "            return loss\n",
    "        else:\n",
    "            return logits, attn_weights\n",
    "\n",
    "    def load_from(self, weights):\n",
    "        with torch.no_grad():\n",
    "            if self.zero_head:\n",
    "                nn.init.zeros_(self.head.weight)\n",
    "                nn.init.zeros_(self.head.bias)\n",
    "            else:\n",
    "                self.head.weight.copy_(np2th(weights[\"head/kernel\"]).t())\n",
    "                self.head.bias.copy_(np2th(weights[\"head/bias\"]).t())\n",
    "\n",
    "            self.transformer.embeddings.patch_embeddings.weight.copy_(np2th(weights[\"embedding/kernel\"]))\n",
    "            self.transformer.embeddings.patch_embeddings.bias.copy_(np2th(weights[\"embedding/bias\"]))\n",
    "            self.transformer.embeddings.cls_token.copy_(np2th(weights[\"cls\"]))\n",
    "            self.transformer.encoder.encoder_norm.weight.copy_(np2th(weights[\"Transformer/encoder_norm/scale\"]))\n",
    "            self.transformer.encoder.encoder_norm.bias.copy_(np2th(weights[\"Transformer/encoder_norm/bias\"]))\n",
    "\n",
    "            posemb = np2th(weights[\"Transformer/posembed_input/pos_embedding\"])\n",
    "            posemb_new = self.transformer.embeddings.position_embeddings\n",
    "            if posemb.size() == posemb_new.size():\n",
    "                self.transformer.embeddings.position_embeddings.copy_(posemb)\n",
    "            else:\n",
    "                logger.info(\"load_pretrained: resized variant: %s to %s\" % (posemb.size(), posemb_new.size()))\n",
    "                ntok_new = posemb_new.size(1)\n",
    "\n",
    "                if self.classifier == \"token\":\n",
    "                    posemb_tok, posemb_grid = posemb[:, :1], posemb[0, 1:]\n",
    "                    ntok_new -= 1\n",
    "                else:\n",
    "                    posemb_tok, posemb_grid = posemb[:, :0], posemb[0]\n",
    "\n",
    "                gs_old = int(np.sqrt(len(posemb_grid)))\n",
    "                gs_new = int(np.sqrt(ntok_new))\n",
    "                print('load_pretrained: grid-size from %s to %s' % (gs_old, gs_new))\n",
    "                posemb_grid = posemb_grid.reshape(gs_old, gs_old, -1)\n",
    "\n",
    "                zoom = (gs_new / gs_old, gs_new / gs_old, 1)\n",
    "                posemb_grid = ndimage.zoom(posemb_grid, zoom, order=1)\n",
    "                posemb_grid = posemb_grid.reshape(1, gs_new * gs_new, -1)\n",
    "                posemb = np.concatenate([posemb_tok, posemb_grid], axis=1)\n",
    "                self.transformer.embeddings.position_embeddings.copy_(np2th(posemb))\n",
    "\n",
    "            for bname, block in self.transformer.encoder.named_children():\n",
    "                for uname, unit in block.named_children():\n",
    "                    unit.load_from(weights, n_block=uname)\n",
    "\n",
    "\n",
    "CONFIGS = {\n",
    "    'ViT-B_16': get_b16_config(),\n",
    "    'ViT-B_32': get_b32_config(),\n",
    "    'ViT-L_16': get_l16_config(),\n",
    "    'ViT-L_32': get_l32_config(),\n",
    "    'ViT-H_14': get_h14_config(),\n",
    "    'testing': get_testing(),\n",
    "}"
   ]
  },
  {
   "cell_type": "markdown",
   "metadata": {
    "id": "B5CT23so4BmQ"
   },
   "source": [
    "### Load Model"
   ]
  },
  {
   "cell_type": "code",
   "execution_count": 6,
   "metadata": {
    "colab": {
     "base_uri": "https://localhost:8080/"
    },
    "id": "5h6Fgga44BFf",
    "outputId": "4c56d982-6949-477c-a7ae-3fe35eea4cd3"
   },
   "outputs": [
    {
     "data": {
      "text/plain": [
       "VisionTransformer(\n",
       "  (transformer): Transformer(\n",
       "    (embeddings): Embeddings(\n",
       "      (patch_embeddings): Conv2d(3, 768, kernel_size=(16, 16), stride=(16, 16))\n",
       "      (dropout): Dropout(p=0.1, inplace=False)\n",
       "    )\n",
       "    (encoder): Encoder(\n",
       "      (layer): ModuleList(\n",
       "        (0-11): 12 x Block(\n",
       "          (attention_norm): LayerNorm((768,), eps=1e-06, elementwise_affine=True)\n",
       "          (ffn_norm): LayerNorm((768,), eps=1e-06, elementwise_affine=True)\n",
       "          (ffn): Mlp(\n",
       "            (fc1): Linear(in_features=768, out_features=3072, bias=True)\n",
       "            (fc2): Linear(in_features=3072, out_features=768, bias=True)\n",
       "            (dropout): Dropout(p=0.1, inplace=False)\n",
       "          )\n",
       "          (attn): Attention(\n",
       "            (query): Linear(in_features=768, out_features=768, bias=True)\n",
       "            (key): Linear(in_features=768, out_features=768, bias=True)\n",
       "            (value): Linear(in_features=768, out_features=768, bias=True)\n",
       "            (out): Linear(in_features=768, out_features=768, bias=True)\n",
       "            (attn_dropout): Dropout(p=0.0, inplace=False)\n",
       "            (proj_dropout): Dropout(p=0.0, inplace=False)\n",
       "            (softmax): Softmax(dim=-1)\n",
       "          )\n",
       "        )\n",
       "      )\n",
       "      (encoder_norm): LayerNorm((768,), eps=1e-06, elementwise_affine=True)\n",
       "    )\n",
       "  )\n",
       "  (head): Linear(in_features=768, out_features=21843, bias=True)\n",
       ")"
      ]
     },
     "execution_count": 6,
     "metadata": {},
     "output_type": "execute_result"
    }
   ],
   "source": [
    "config = CONFIGS[\"ViT-B_16\"]\n",
    "model = VisionTransformer(config, img_size=224, num_classes=21843, zero_head=False, vis=True)\n",
    "model.load_from(np.load(\"ViT-B_16.npz\"))\n",
    "model.to(device)"
   ]
  },
  {
   "cell_type": "markdown",
   "metadata": {
    "id": "u33c2WQgN4yy"
   },
   "source": [
    "### Utilities"
   ]
  },
  {
   "cell_type": "code",
   "execution_count": 7,
   "metadata": {
    "id": "kBIivXPb3Jwc"
   },
   "outputs": [],
   "source": [
    "def get_world_size():\n",
    "    if not dist.is_available():\n",
    "        return 1\n",
    "    if not dist.is_initialized():\n",
    "        return 1\n",
    "    return dist.get_world_size()"
   ]
  },
  {
   "cell_type": "markdown",
   "metadata": {
    "id": "K7tIVUfrOaFP"
   },
   "source": [
    "### Dataloader"
   ]
  },
  {
   "cell_type": "code",
   "execution_count": 8,
   "metadata": {
    "id": "H0EQFpcJN6_o"
   },
   "outputs": [],
   "source": [
    "def get_loader(local_rank, img_size, dataset, train_batch_size, eval_batch_size):\n",
    "    if local_rank not in [-1, 0]:\n",
    "        torch.distributed.barrier()\n",
    "\n",
    "    transform_train = transforms.Compose([\n",
    "        transforms.RandomResizedCrop((img_size, img_size), scale=(0.05, 1.0)),\n",
    "        transforms.ToTensor(),\n",
    "        transforms.Normalize(mean=[0.5, 0.5, 0.5], std=[0.5, 0.5, 0.5]),\n",
    "    ])\n",
    "    transform_test = transforms.Compose([\n",
    "        transforms.Resize((img_size, img_size)),\n",
    "        transforms.ToTensor(),\n",
    "        transforms.Normalize(mean=[0.5, 0.5, 0.5], std=[0.5, 0.5, 0.5]),\n",
    "    ])\n",
    "\n",
    "    if dataset == \"cifar10\":\n",
    "        trainset = datasets.CIFAR10(root=\"./data\",\n",
    "                                    train=True,\n",
    "                                    download=True,\n",
    "                                    transform=transform_train)\n",
    "        testset = datasets.CIFAR10(root=\"./data\",\n",
    "                                   train=False,\n",
    "                                   download=True,\n",
    "                                   transform=transform_test) if local_rank in [-1, 0] else None\n",
    "\n",
    "    else:\n",
    "        trainset = datasets.CIFAR100(root=\"./data\",\n",
    "                                     train=True,\n",
    "                                     download=True,\n",
    "                                     transform=transform_train)\n",
    "        testset = datasets.CIFAR100(root=\"./data\",\n",
    "                                    train=False,\n",
    "                                    download=True,\n",
    "                                    transform=transform_test) if local_rank in [-1, 0] else None\n",
    "    if local_rank == 0:\n",
    "        torch.distributed.barrier()\n",
    "\n",
    "    train_sampler = RandomSampler(trainset) if local_rank == -1 else DistributedSampler(trainset)\n",
    "    test_sampler = SequentialSampler(testset)\n",
    "    train_loader = DataLoader(trainset,\n",
    "                              sampler=train_sampler,\n",
    "                              batch_size=train_batch_size,\n",
    "                              num_workers=4,\n",
    "                              pin_memory=True)\n",
    "    test_loader = DataLoader(testset,\n",
    "                             sampler=test_sampler,\n",
    "                             batch_size=eval_batch_size,\n",
    "                             num_workers=4,\n",
    "                             pin_memory=True) if testset is not None else None\n",
    "\n",
    "    return train_loader, test_loader"
   ]
  },
  {
   "cell_type": "markdown",
   "metadata": {
    "id": "GE2Kw1F2OzMt"
   },
   "source": [
    "### Scheduler"
   ]
  },
  {
   "cell_type": "code",
   "execution_count": 9,
   "metadata": {
    "id": "5bqxK0EQO0Tj"
   },
   "outputs": [],
   "source": [
    "class ConstantLRSchedule(LambdaLR):\n",
    "    \"\"\" Constant learning rate schedule.\n",
    "    \"\"\"\n",
    "    def __init__(self, optimizer, last_epoch=-1):\n",
    "        super(ConstantLRSchedule, self).__init__(optimizer, lambda _: 1.0, last_epoch=last_epoch)\n",
    "\n",
    "\n",
    "class WarmupConstantSchedule(LambdaLR):\n",
    "    \"\"\" Linear warmup and then constant.\n",
    "        Linearly increases learning rate schedule from 0 to 1 over `warmup_steps` training steps.\n",
    "        Keeps learning rate schedule equal to 1. after warmup_steps.\n",
    "    \"\"\"\n",
    "    def __init__(self, optimizer, warmup_steps, last_epoch=-1):\n",
    "        self.warmup_steps = warmup_steps\n",
    "        super(WarmupConstantSchedule, self).__init__(optimizer, self.lr_lambda, last_epoch=last_epoch)\n",
    "\n",
    "    def lr_lambda(self, step):\n",
    "        if step < self.warmup_steps:\n",
    "            return float(step) / float(max(1.0, self.warmup_steps))\n",
    "        return 1.\n",
    "\n",
    "\n",
    "class WarmupLinearSchedule(LambdaLR):\n",
    "    \"\"\" Linear warmup and then linear decay.\n",
    "        Linearly increases learning rate from 0 to 1 over `warmup_steps` training steps.\n",
    "        Linearly decreases learning rate from 1. to 0. over remaining `t_total - warmup_steps` steps.\n",
    "    \"\"\"\n",
    "    def __init__(self, optimizer, warmup_steps, t_total, last_epoch=-1):\n",
    "        self.warmup_steps = warmup_steps\n",
    "        self.t_total = t_total\n",
    "        super(WarmupLinearSchedule, self).__init__(optimizer, self.lr_lambda, last_epoch=last_epoch)\n",
    "\n",
    "    def lr_lambda(self, step):\n",
    "        if step < self.warmup_steps:\n",
    "            return float(step) / float(max(1, self.warmup_steps))\n",
    "        return max(0.0, float(self.t_total - step) / float(max(1.0, self.t_total - self.warmup_steps)))\n",
    "\n",
    "\n",
    "class WarmupCosineSchedule(LambdaLR):\n",
    "    \"\"\" Linear warmup and then cosine decay.\n",
    "        Linearly increases learning rate from 0 to 1 over `warmup_steps` training steps.\n",
    "        Decreases learning rate from 1. to 0. over remaining `t_total - warmup_steps` steps following a cosine curve.\n",
    "        If `cycles` (default=0.5) is different from default, learning rate follows cosine function after warmup.\n",
    "    \"\"\"\n",
    "    def __init__(self, optimizer, warmup_steps, t_total, cycles=.5, last_epoch=-1):\n",
    "        self.warmup_steps = warmup_steps\n",
    "        self.t_total = t_total\n",
    "        self.cycles = cycles\n",
    "        super(WarmupCosineSchedule, self).__init__(optimizer, self.lr_lambda, last_epoch=last_epoch)\n",
    "\n",
    "    def lr_lambda(self, step):\n",
    "        if step < self.warmup_steps:\n",
    "            return float(step) / float(max(1.0, self.warmup_steps))\n",
    "        # progress after warmup\n",
    "        progress = float(step - self.warmup_steps) / float(max(1, self.t_total - self.warmup_steps))\n",
    "        return max(0.0, 0.5 * (1. + math.cos(math.pi * float(self.cycles) * 2.0 * progress)))"
   ]
  },
  {
   "cell_type": "markdown",
   "metadata": {
    "id": "L8cG1A7cPePP"
   },
   "source": [
    "### Training"
   ]
  },
  {
   "cell_type": "code",
   "execution_count": 10,
   "metadata": {
    "id": "snPh21bjO03W"
   },
   "outputs": [],
   "source": [
    "class AverageMeter(object):\n",
    "    \"\"\"Computes and stores the average and current value\"\"\"\n",
    "    def __init__(self):\n",
    "        self.reset()\n",
    "\n",
    "    def reset(self):\n",
    "        self.val = 0\n",
    "        self.avg = 0\n",
    "        self.sum = 0\n",
    "        self.count = 0\n",
    "\n",
    "    def update(self, val, n=1):\n",
    "        self.val = val\n",
    "        self.sum += val * n\n",
    "        self.count += n\n",
    "        self.avg = self.sum / self.count\n",
    "\n",
    "\n",
    "def simple_accuracy(preds, labels):\n",
    "    return (preds == labels).mean()\n",
    "\n",
    "\n",
    "def save_model(output_dir, name, model):\n",
    "    model_to_save = model.module if hasattr(model, 'module') else model\n",
    "    model_checkpoint = os.path.join(output_dir, \"%s_checkpoint.bin\" % name)\n",
    "    torch.save(model_to_save.state_dict(), model_checkpoint)\n",
    "    logger.info(\"Saved model checkpoint to [DIR: %s]\", output_dir)\n",
    "\n",
    "\n",
    "def setup(model_type, img_size, pretrained_dir, device, dataset):\n",
    "    # Prepare model\n",
    "    config = CONFIGS[model_type]\n",
    "\n",
    "    num_classes = 10 if dataset == \"cifar10\" else 100\n",
    "\n",
    "    model = VisionTransformer(config, img_size, zero_head=True, num_classes=num_classes)\n",
    "    model.load_from(np.load(pretrained_dir))\n",
    "    model.to(device)\n",
    "    num_params = count_parameters(model)\n",
    "\n",
    "    logger.info(\"{}\".format(config))\n",
    "    logger.info(\"Training parameters %s\", model_type, img_size, pretrained_dir, device)\n",
    "    logger.info(\"Total Parameter: \\t%2.1fM\" % num_params)\n",
    "    return model_type, img_size, pretrained_dir, device, model\n",
    "\n",
    "\n",
    "def count_parameters(model):\n",
    "    params = sum(p.numel() for p in model.parameters() if p.requires_grad)\n",
    "    return params/1000000\n",
    "\n",
    "\n",
    "def set_seed(seed, n_gpu):\n",
    "    random.seed(seed)\n",
    "    np.random.seed(seed)\n",
    "    torch.manual_seed(seed)\n",
    "    if n_gpu > 0:\n",
    "        torch.cuda.manual_seed_all(seed)"
   ]
  },
  {
   "cell_type": "code",
   "execution_count": 12,
   "metadata": {},
   "outputs": [],
   "source": [
    "def valid(eval_batch_size, local_rank, device, model, writer, test_loader, global_step):\n",
    "    # Validation!\n",
    "    eval_losses = AverageMeter()\n",
    "\n",
    "    logger.info(\"***** Running Validation *****\")\n",
    "    logger.info(\"  Num steps = %d\", len(test_loader))\n",
    "    logger.info(\"  Batch size = %d\", eval_batch_size)\n",
    "\n",
    "    model.eval()\n",
    "    all_preds, all_label = [], []\n",
    "    epoch_iterator = tqdm(test_loader,\n",
    "                          desc=\"Validating... (loss=X.X)\",\n",
    "                          bar_format=\"{l_bar}{r_bar}\",\n",
    "                          dynamic_ncols=True,\n",
    "                          disable=local_rank not in [-1, 0])\n",
    "    loss_fct = torch.nn.CrossEntropyLoss()\n",
    "    for step, batch in enumerate(epoch_iterator):\n",
    "        batch = tuple(t.to(device) for t in batch)\n",
    "        x, y = batch\n",
    "        with torch.no_grad():\n",
    "            logits, attn_weights = model(x)\n",
    "\n",
    "            eval_loss = loss_fct(logits, y)\n",
    "            eval_losses.update(eval_loss.item())\n",
    "\n",
    "            preds = torch.argmax(logits, dim=-1)\n",
    "\n",
    "        if len(all_preds) == 0:\n",
    "            all_preds.append(preds.detach().cpu().numpy())\n",
    "            all_label.append(y.detach().cpu().numpy())\n",
    "        else:\n",
    "            all_preds[0] = np.append(\n",
    "                all_preds[0], preds.detach().cpu().numpy(), axis=0\n",
    "            )\n",
    "            all_label[0] = np.append(\n",
    "                all_label[0], y.detach().cpu().numpy(), axis=0\n",
    "            )\n",
    "        epoch_iterator.set_description(\"Validating... (loss=%2.5f)\" % eval_losses.val)\n",
    "\n",
    "    all_preds, all_label = all_preds[0], all_label[0]\n",
    "    accuracy = simple_accuracy(all_preds, all_label)\n",
    "\n",
    "    logger.info(\"\\n\")\n",
    "    logger.info(\"Validation Results\")\n",
    "    logger.info(\"Global Steps: %d\" % global_step)\n",
    "    logger.info(\"Valid Loss: %2.5f\" % eval_losses.avg)\n",
    "    logger.info(\"Valid Accuracy: %2.5f\" % accuracy)\n",
    "\n",
    "    writer.add_scalar(\"test/accuracy\", scalar_value=accuracy, global_step=global_step)\n",
    "    writer.add_scalar(\"test/loss\", scalar_value=eval_losses.avg, global_step=global_step)\n",
    "    return accuracy, eval_losses.avg"
   ]
  },
  {
   "cell_type": "code",
   "execution_count": 14,
   "metadata": {},
   "outputs": [],
   "source": [
    "import random\n",
    "import numpy as np\n",
    "\n",
    "def cutmix_data(x, y, alpha=1.0):\n",
    "    '''Returns mixed inputs, pairs of targets, and lambda'''\n",
    "    lam = np.random.beta(alpha, alpha)\n",
    "    batch_size = x.size()[0]\n",
    "    index = torch.randperm(batch_size).to(x.device)\n",
    "\n",
    "    y_a, y_b = y, y[index]\n",
    "    bbx1, bby1, bbx2, bby2 = rand_bbox(x.size(), lam)\n",
    "    x[:, :, bbx1:bbx2, bby1:bby2] = x[index, :, bbx1:bbx2, bby1:bby2]\n",
    "\n",
    "    return x, y_a, y_b, lam\n",
    "\n",
    "def rand_bbox(size, lam):\n",
    "    W = size[2]\n",
    "    H = size[3]\n",
    "    cut_rat = np.sqrt(1. - lam)\n",
    "    cut_w = int(W * cut_rat)\n",
    "    cut_h = int(H * cut_rat)\n",
    "\n",
    "    # uniform\n",
    "    cx = np.random.randint(W)\n",
    "    cy = np.random.randint(H)\n",
    "\n",
    "    bbx1 = np.clip(cx - cut_w // 2, 0, W)\n",
    "    bby1 = np.clip(cy - cut_h // 2, 0, H)\n",
    "    bbx2 = np.clip(cx + cut_w // 2, 0, W)\n",
    "    bby2 = np.clip(cy + cut_h // 2, 0, H)\n",
    "\n",
    "    return bbx1, bby1, bbx2, bby2"
   ]
  },
  {
   "cell_type": "code",
   "execution_count": 15,
   "metadata": {},
   "outputs": [],
   "source": [
    "def train(epoch_nums, local_rank, output_dir, name, train_batch_size, eval_batch_size, seed, n_gpu, gradient_accumulation_steps, dataset, img_size, learning_rate, weight_decay, num_steps, decay_type, warmup_steps, fp16, fp16_opt_level, device, max_grad_norm, eval_every, model):\n",
    "    \"\"\" Train the model \"\"\"\n",
    "    if local_rank in [-1, 0]:\n",
    "        os.makedirs(output_dir, exist_ok=True)\n",
    "        writer = SummaryWriter(log_dir=os.path.join(\"logs\", name))\n",
    "\n",
    "    train_batch_size = train_batch_size // gradient_accumulation_steps\n",
    "\n",
    "    # Prepare dataset\n",
    "    train_loader, test_loader = get_loader(local_rank, img_size, dataset, train_batch_size, eval_batch_size)\n",
    "\n",
    "    criterion = nn.CrossEntropyLoss()\n",
    "    # Prepare optimizer and scheduler\n",
    "    optimizer = torch.optim.SGD(model.parameters(),\n",
    "                                lr=learning_rate,\n",
    "                                momentum=0.9,\n",
    "                                weight_decay=weight_decay)\n",
    "    t_total = num_steps\n",
    "    total_step = len(train_loader)\n",
    "    if decay_type == \"cosine\":\n",
    "        scheduler = WarmupCosineSchedule(optimizer, warmup_steps=warmup_steps, t_total=t_total)\n",
    "    else:\n",
    "        scheduler = WarmupLinearSchedule(optimizer, warmup_steps=warmup_steps, t_total=t_total)\n",
    "\n",
    "    # Distributed training\n",
    "    if local_rank != -1:\n",
    "        model = DDP(model, message_size=250000000, gradient_predivide_factor=get_world_size())\n",
    "\n",
    "    # Train!\n",
    "    logger.info(\"***** Running training *****\")\n",
    "    logger.info(\"  Total optimization steps = %d\", num_steps)\n",
    "    logger.info(\"  Instantaneous batch size per GPU = %d\", train_batch_size)\n",
    "    logger.info(\"  Total train batch size (w. parallel, distributed & accumulation) = %d\",\n",
    "                train_batch_size * gradient_accumulation_steps * (\n",
    "                    torch.distributed.get_world_size() if local_rank != -1 else 1))\n",
    "    logger.info(\"  Gradient Accumulation steps = %d\", gradient_accumulation_steps)\n",
    "\n",
    "    model.zero_grad()\n",
    "    set_seed(seed, n_gpu)  # Added here for reproducibility (even between python 2 and 3)\n",
    "    losses = AverageMeter()\n",
    "    global_step, best_acc = 0, 0\n",
    "    train_accs = []\n",
    "    test_accs = []\n",
    "    train_losses = []\n",
    "    val_losses = []\n",
    "\n",
    "    for epoch in range(epoch_nums):\n",
    "        running_loss = 0\n",
    "        running_corrects = 0\n",
    "        model.train()\n",
    "        \n",
    "        for batch_idx, (inputs, labels) in enumerate(train_loader):\n",
    "            inputs = Variable(inputs.cuda())\n",
    "            labels = Variable(labels.cuda())\n",
    "            \n",
    "            r = np.random.rand(1)\n",
    "            if r < 0.5:\n",
    "            # generate mixed sample\n",
    "                lam = np.random.beta(1, 1)\n",
    "                rand_index = torch.randperm(inputs.size()[0]).to(device)\n",
    "                target_a = labels\n",
    "                target_b = labels[rand_index]\n",
    "                bbx1, bby1, bbx2, bby2 = rand_bbox(inputs.size(), lam)\n",
    "                inputs[:, :, bbx1:bbx2, bby1:bby2] = inputs[rand_index, :, bbx1:bbx2, bby1:bby2]\n",
    "                # adjust lambda to exactly match pixel ratio\n",
    "                lam = 1 - ((bbx2 - bbx1) * (bby2 - bby1) / (inputs.size()[-1] * inputs.size()[-2]))\n",
    "                # compute output\n",
    "                inputs = inputs.float()\n",
    "                optimizer.zero_grad()\n",
    "                outputs = model(inputs)[0]\n",
    "                loss = criterion(outputs, target_a) * lam + criterion(outputs, target_b) * (1. - lam)\n",
    "            else:\n",
    "                # compute output\n",
    "                inputs = inputs.float()\n",
    "                optimizer.zero_grad()\n",
    "                outputs = model(inputs)[0]\n",
    "                loss = criterion(outputs, labels)\n",
    "\n",
    "            loss.backward()\n",
    "            losses.update(loss.item() * gradient_accumulation_steps)\n",
    "            torch.nn.utils.clip_grad_norm_(model.parameters(), max_grad_norm)\n",
    "            scheduler.step()\n",
    "            optimizer.step()\n",
    "            optimizer.zero_grad()\n",
    "            global_step += 1\n",
    "            \n",
    "            _, preds = torch.max(outputs, 1)\n",
    "            running_loss += loss.item()\n",
    "            running_corrects += torch.sum(preds == labels.data)\n",
    "            \n",
    "            if (batch_idx) % 200 == 0:\n",
    "                    print ('Epoch [{}/{}], Step [{}/{}], Loss: {:.4f}'.format(epoch+1, epoch_nums, batch_idx, total_step, losses.val))\n",
    "\n",
    "            if local_rank in [-1, 0]:\n",
    "                writer.add_scalar(\"train/loss\", scalar_value=losses.val, global_step=global_step)\n",
    "                writer.add_scalar(\"train/lr\", scalar_value=scheduler.get_lr()[0], global_step=global_step)\n",
    "#                 train_losses.append(losses.val)\n",
    "        \n",
    "        epoch_loss = running_loss / len(train_loader)\n",
    "        epoch_acc = running_corrects.double() / len(train_loader)\n",
    "        \n",
    "        train_accs.append(epoch_acc)\n",
    "        train_losses.append(epoch_loss)\n",
    "\n",
    "        if local_rank in [-1, 0]: # global_step % eval_every == 0 and \n",
    "            accuracy, val_loss = valid(eval_batch_size, local_rank, device, model, writer, test_loader, global_step)\n",
    "            test_accs.append(accuracy)\n",
    "            val_losses.append(val_loss)\n",
    "            writer.add_scalar(\"val/loss\", scalar_value=val_loss, global_step=global_step)\n",
    "            writer.add_scalar(\"val/accuracy\", scalar_value=accuracy, global_step=global_step)\n",
    "\n",
    "            if best_acc < accuracy:\n",
    "                save_model(output_dir, name, model)\n",
    "                best_acc = accuracy\n",
    "            model.train()\n",
    "            \n",
    "        losses.reset()\n",
    "\n",
    "#     if local_rank in [-1, 0]:\n",
    "#         writer.close()\n",
    "    logger.info(\"Best Accuracy: \\t%f\" % best_acc)\n",
    "    logger.info(\"End Training!\")\n",
    "    \n",
    "    return train_accs, test_accs, train_losses, val_losses"
   ]
  },
  {
   "cell_type": "code",
   "execution_count": 16,
   "metadata": {
    "id": "dfYfxZgtPpWu"
   },
   "outputs": [],
   "source": [
    "def main():\n",
    "    # Required parameters\n",
    "    epoch_nums = 20\n",
    "    name = \"cifar10_500\"                                # Name of this run. Used for monitoring\n",
    "    dataset = \"cifar100\"                                 # Which downstream task, choices=[\"cifar10\", \"cifar100\"]\n",
    "    model_type = \"ViT-B_16\"                             # Which variant to use\n",
    "    pretrained_dir = \"ViT-B_16.npz\"            # Where to search for pretrained ViT models\n",
    "    output_dir = \"output_cifar100\"                       # The output directory where checkpoints will be written\n",
    "    img_size = 224                                      # Resolution size\n",
    "    train_batch_size = 32                               # Total batch size for training\n",
    "    eval_batch_size = 32                                # Total batch size for eval\n",
    "    eval_every = 100                                    # Run prediction on validation set every so many steps (Will always run one evaluation at the end of training)\n",
    "    learning_rate = 3e-2                                # The initial learning rate for SGD\n",
    "    weight_decay = 0                                    # Weight deay if we apply some\n",
    "    num_steps = 500                                     # Total number of training epochs to perform\n",
    "    decay_type = \"cosine\"                               # How to decay the learning rate, choices=[\"cosine\", \"linear\"]\n",
    "    warmup_steps = 100                                  # Step of training to perform learning rate warmup for\n",
    "    max_grad_norm = 1.0                                 # Max gradient norm\n",
    "    local_rank = -1                                     # local_rank for distributed training on gpus\n",
    "    seed = 42                                           # random seed for initialization\n",
    "    gradient_accumulation_steps = 1                     # Number of updates steps to accumulate before performing a backward/update pass\n",
    "    fp16 = 0                                            # (action = 'store_true') Whether to use 16-bit float precision instead of 32-bit\n",
    "    fp16_opt_level = 'store_true'                       # For fp16: Apex AMP optimization level selected in ['O0', 'O1', 'O2', and 'O3']\n",
    "    loss_scale = 0                                      # Loss scaling to improve fp16 numeric stability. Only used when fp16 set to True (0 (default value): dynamic loss scaling, Positive power of 2: static loss scaling value)\n",
    "    local_rank = -1                                     # local_rank for distributed training on gpus\n",
    "\n",
    "    device=\"cpu\"\n",
    "    n_gpu = 0\n",
    "\n",
    "    # Setup CUDA, GPU & distributed training\n",
    "    if local_rank == -1:\n",
    "        device = torch.device(\"cuda\" if torch.cuda.is_available() else \"cpu\")\n",
    "        n_gpu = torch.cuda.device_count()\n",
    "    else:  # Initializes the distributed backend which will take care of sychronizing nodes/GPUs\n",
    "        torch.cuda.set_device(local_rank)\n",
    "        device = torch.device(\"cuda\", local_rank)\n",
    "        torch.distributed.init_process_group(backend='nccl',\n",
    "                                             timeout=timedelta(minutes=60))\n",
    "        n_gpu = 1\n",
    "\n",
    "    # Setup logging\n",
    "    logging.basicConfig(format='%(asctime)s - %(levelname)s - %(name)s - %(message)s',\n",
    "                        datefmt='%m/%d/%Y %H:%M:%S',\n",
    "                        level=logging.INFO if local_rank in [-1, 0] else logging.WARN)\n",
    "    logger.warning(\"Process rank: %s, device: %s, n_gpu: %s, distributed training: %s, 16-bits training: %s\" %\n",
    "                   (local_rank, device, n_gpu, bool(local_rank != -1), fp16))\n",
    "\n",
    "    # Set seed\n",
    "    set_seed(seed, n_gpu)\n",
    "\n",
    "    # Model & Tokenizer Setup\n",
    "    model_type, img_size, pretrained_dir, device, model = setup(model_type, img_size, pretrained_dir, device, dataset)\n",
    "\n",
    "    # Training\n",
    "    train_accs, test_accs, train_losses, val_losses = train(epoch_nums, local_rank, output_dir, name, train_batch_size, eval_batch_size, seed, n_gpu, gradient_accumulation_steps, dataset, img_size, learning_rate, weight_decay, num_steps, decay_type, warmup_steps, fp16, fp16_opt_level, device, max_grad_norm, eval_every, model)\n",
    "    \n",
    "    return train_accs, test_accs, train_losses, val_losses"
   ]
  },
  {
   "cell_type": "markdown",
   "metadata": {
    "id": "nK-ZHCjlR2tp"
   },
   "source": [
    "### Running the trainer"
   ]
  },
  {
   "cell_type": "code",
   "execution_count": 17,
   "metadata": {
    "colab": {
     "base_uri": "https://localhost:8080/",
     "height": 1000,
     "referenced_widgets": [
      "903dc034c1764747a83fec081f0dc101",
      "55d4e9ca535f4e14aab6daa655ccb8b9",
      "54db82f6d0f34318baa919af209841ac",
      "7123e5a6e2e3441c8c2cca74b2cec744",
      "15d5f58cb9454ed2adfedd53bae5b375",
      "6fb6190cb4e24f12b8e4067ebbe7808f",
      "f0661d48681c45cd8720ca1e611313cd",
      "425296f574ff49258c84934ca5013aef"
     ]
    },
    "id": "SoKUU305PsuK",
    "outputId": "b2ab35e3-5bb6-4b9d-fe8f-d172460afaba"
   },
   "outputs": [
    {
     "name": "stderr",
     "output_type": "stream",
     "text": [
      "WARNING:__main__:Process rank: -1, device: cuda, n_gpu: 1, distributed training: False, 16-bits training: 0\n",
      "INFO:__main__:classifier: token\n",
      "hidden_size: 768\n",
      "patches:\n",
      "  size: !!python/tuple\n",
      "  - 16\n",
      "  - 16\n",
      "representation_size: null\n",
      "transformer:\n",
      "  attention_dropout_rate: 0.0\n",
      "  dropout_rate: 0.1\n",
      "  mlp_dim: 3072\n",
      "  num_heads: 12\n",
      "  num_layers: 12\n",
      "\n",
      "--- Logging error ---\n",
      "Traceback (most recent call last):\n",
      "  File \"/root/miniconda3/lib/python3.10/logging/__init__.py\", line 1100, in emit\n",
      "    msg = self.format(record)\n",
      "  File \"/root/miniconda3/lib/python3.10/logging/__init__.py\", line 943, in format\n",
      "    return fmt.format(record)\n",
      "  File \"/root/miniconda3/lib/python3.10/logging/__init__.py\", line 678, in format\n",
      "    record.message = record.getMessage()\n",
      "  File \"/root/miniconda3/lib/python3.10/logging/__init__.py\", line 368, in getMessage\n",
      "    msg = msg % self.args\n",
      "TypeError: not all arguments converted during string formatting\n",
      "Call stack:\n",
      "  File \"/root/miniconda3/lib/python3.10/runpy.py\", line 196, in _run_module_as_main\n",
      "    return _run_code(code, main_globals, None,\n",
      "  File \"/root/miniconda3/lib/python3.10/runpy.py\", line 86, in _run_code\n",
      "    exec(code, run_globals)\n",
      "  File \"/root/miniconda3/lib/python3.10/site-packages/ipykernel_launcher.py\", line 17, in <module>\n",
      "    app.launch_new_instance()\n",
      "  File \"/root/miniconda3/lib/python3.10/site-packages/traitlets/config/application.py\", line 1075, in launch_instance\n",
      "    app.start()\n",
      "  File \"/root/miniconda3/lib/python3.10/site-packages/ipykernel/kernelapp.py\", line 701, in start\n",
      "    self.io_loop.start()\n",
      "  File \"/root/miniconda3/lib/python3.10/site-packages/tornado/platform/asyncio.py\", line 205, in start\n",
      "    self.asyncio_loop.run_forever()\n",
      "  File \"/root/miniconda3/lib/python3.10/asyncio/base_events.py\", line 603, in run_forever\n",
      "    self._run_once()\n",
      "  File \"/root/miniconda3/lib/python3.10/asyncio/base_events.py\", line 1899, in _run_once\n",
      "    handle._run()\n",
      "  File \"/root/miniconda3/lib/python3.10/asyncio/events.py\", line 80, in _run\n",
      "    self._context.run(self._callback, *self._args)\n",
      "  File \"/root/miniconda3/lib/python3.10/site-packages/ipykernel/kernelbase.py\", line 534, in dispatch_queue\n",
      "    await self.process_one()\n",
      "  File \"/root/miniconda3/lib/python3.10/site-packages/ipykernel/kernelbase.py\", line 523, in process_one\n",
      "    await dispatch(*args)\n",
      "  File \"/root/miniconda3/lib/python3.10/site-packages/ipykernel/kernelbase.py\", line 429, in dispatch_shell\n",
      "    await result\n",
      "  File \"/root/miniconda3/lib/python3.10/site-packages/ipykernel/kernelbase.py\", line 767, in execute_request\n",
      "    reply_content = await reply_content\n",
      "  File \"/root/miniconda3/lib/python3.10/site-packages/ipykernel/ipkernel.py\", line 429, in do_execute\n",
      "    res = shell.run_cell(\n",
      "  File \"/root/miniconda3/lib/python3.10/site-packages/ipykernel/zmqshell.py\", line 549, in run_cell\n",
      "    return super().run_cell(*args, **kwargs)\n",
      "  File \"/root/miniconda3/lib/python3.10/site-packages/IPython/core/interactiveshell.py\", line 3051, in run_cell\n",
      "    result = self._run_cell(\n",
      "  File \"/root/miniconda3/lib/python3.10/site-packages/IPython/core/interactiveshell.py\", line 3106, in _run_cell\n",
      "    result = runner(coro)\n",
      "  File \"/root/miniconda3/lib/python3.10/site-packages/IPython/core/async_helpers.py\", line 129, in _pseudo_sync_runner\n",
      "    coro.send(None)\n",
      "  File \"/root/miniconda3/lib/python3.10/site-packages/IPython/core/interactiveshell.py\", line 3311, in run_cell_async\n",
      "    has_raised = await self.run_ast_nodes(code_ast.body, cell_name,\n",
      "  File \"/root/miniconda3/lib/python3.10/site-packages/IPython/core/interactiveshell.py\", line 3493, in run_ast_nodes\n",
      "    if await self.run_code(code, result, async_=asy):\n",
      "  File \"/root/miniconda3/lib/python3.10/site-packages/IPython/core/interactiveshell.py\", line 3553, in run_code\n",
      "    exec(code_obj, self.user_global_ns, self.user_ns)\n",
      "  File \"/tmp/ipykernel_1445/2175885637.py\", line 1, in <module>\n",
      "    train_accs, test_accs, train_losses, val_losses = main()\n",
      "  File \"/tmp/ipykernel_1445/2970243325.py\", line 52, in main\n",
      "    model_type, img_size, pretrained_dir, device, model = setup(model_type, img_size, pretrained_dir, device, dataset)\n",
      "  File \"/tmp/ipykernel_1445/2218994866.py\", line 42, in setup\n",
      "    logger.info(\"Training parameters %s\", model_type, img_size, pretrained_dir, device)\n",
      "Message: 'Training parameters %s'\n",
      "Arguments: ('ViT-B_16', 224, 'ViT-B_16.npz', device(type='cuda'))\n",
      "INFO:__main__:Total Parameter: \t85.9M\n"
     ]
    },
    {
     "name": "stdout",
     "output_type": "stream",
     "text": [
      "Files already downloaded and verified\n",
      "Files already downloaded and verified\n"
     ]
    },
    {
     "name": "stderr",
     "output_type": "stream",
     "text": [
      "INFO:__main__:***** Running training *****\n",
      "INFO:__main__:  Total optimization steps = 500\n",
      "INFO:__main__:  Instantaneous batch size per GPU = 32\n",
      "INFO:__main__:  Total train batch size (w. parallel, distributed & accumulation) = 32\n",
      "INFO:__main__:  Gradient Accumulation steps = 1\n",
      "/root/miniconda3/lib/python3.10/site-packages/torch/optim/lr_scheduler.py:136: UserWarning: Detected call of `lr_scheduler.step()` before `optimizer.step()`. In PyTorch 1.1.0 and later, you should call them in the opposite order: `optimizer.step()` before `lr_scheduler.step()`.  Failure to do this will result in PyTorch skipping the first value of the learning rate schedule. See more details at https://pytorch.org/docs/stable/optim.html#how-to-adjust-learning-rate\n",
      "  warnings.warn(\"Detected call of `lr_scheduler.step()` before `optimizer.step()`. \"\n",
      "/root/miniconda3/lib/python3.10/site-packages/torch/optim/lr_scheduler.py:261: UserWarning: To get the last learning rate computed by the scheduler, please use `get_last_lr()`.\n",
      "  warnings.warn(\"To get the last learning rate computed by the scheduler, \"\n"
     ]
    },
    {
     "name": "stdout",
     "output_type": "stream",
     "text": [
      "Epoch [1/20], Step [0/1563], Loss: 4.6052\n",
      "Epoch [1/20], Step [200/1563], Loss: 2.6044\n",
      "Epoch [1/20], Step [400/1563], Loss: 1.8997\n",
      "Epoch [1/20], Step [600/1563], Loss: 3.2102\n",
      "Epoch [1/20], Step [800/1563], Loss: 1.8325\n",
      "Epoch [1/20], Step [1000/1563], Loss: 3.5932\n",
      "Epoch [1/20], Step [1200/1563], Loss: 3.3577\n",
      "Epoch [1/20], Step [1400/1563], Loss: 0.9052\n"
     ]
    },
    {
     "name": "stderr",
     "output_type": "stream",
     "text": [
      "INFO:__main__:***** Running Validation *****\n",
      "INFO:__main__:  Num steps = 313\n",
      "INFO:__main__:  Batch size = 32\n",
      "Validating... (loss=0.60127): 100%|| 313/313 [00:13<00:00, 22.74it/s]\n",
      "INFO:__main__:\n",
      "\n",
      "INFO:__main__:Validation Results\n",
      "INFO:__main__:Global Steps: 1563\n",
      "INFO:__main__:Valid Loss: 0.59390\n",
      "INFO:__main__:Valid Accuracy: 0.87730\n",
      "INFO:__main__:Saved model checkpoint to [DIR: output_cifar100]\n"
     ]
    },
    {
     "name": "stdout",
     "output_type": "stream",
     "text": [
      "Epoch [2/20], Step [0/1563], Loss: 1.9357\n",
      "Epoch [2/20], Step [200/1563], Loss: 2.9147\n",
      "Epoch [2/20], Step [400/1563], Loss: 2.8803\n",
      "Epoch [2/20], Step [600/1563], Loss: 0.9993\n",
      "Epoch [2/20], Step [800/1563], Loss: 1.4981\n",
      "Epoch [2/20], Step [1000/1563], Loss: 1.2584\n",
      "Epoch [2/20], Step [1200/1563], Loss: 0.9640\n",
      "Epoch [2/20], Step [1400/1563], Loss: 1.0033\n"
     ]
    },
    {
     "name": "stderr",
     "output_type": "stream",
     "text": [
      "INFO:__main__:***** Running Validation *****\n",
      "INFO:__main__:  Num steps = 313\n",
      "INFO:__main__:  Batch size = 32\n",
      "Validating... (loss=0.40792): 100%|| 313/313 [00:13<00:00, 22.73it/s]\n",
      "INFO:__main__:\n",
      "\n",
      "INFO:__main__:Validation Results\n",
      "INFO:__main__:Global Steps: 3126\n",
      "INFO:__main__:Valid Loss: 0.39298\n",
      "INFO:__main__:Valid Accuracy: 0.89410\n",
      "INFO:__main__:Saved model checkpoint to [DIR: output_cifar100]\n"
     ]
    },
    {
     "name": "stdout",
     "output_type": "stream",
     "text": [
      "Epoch [3/20], Step [0/1563], Loss: 1.5905\n",
      "Epoch [3/20], Step [200/1563], Loss: 1.1571\n",
      "Epoch [3/20], Step [400/1563], Loss: 2.1963\n",
      "Epoch [3/20], Step [600/1563], Loss: 1.3380\n",
      "Epoch [3/20], Step [800/1563], Loss: 2.4234\n",
      "Epoch [3/20], Step [1000/1563], Loss: 1.6110\n",
      "Epoch [3/20], Step [1200/1563], Loss: 2.3502\n",
      "Epoch [3/20], Step [1400/1563], Loss: 2.7285\n"
     ]
    },
    {
     "name": "stderr",
     "output_type": "stream",
     "text": [
      "INFO:__main__:***** Running Validation *****\n",
      "INFO:__main__:  Num steps = 313\n",
      "INFO:__main__:  Batch size = 32\n",
      "Validating... (loss=0.37354): 100%|| 313/313 [00:13<00:00, 22.73it/s]\n",
      "INFO:__main__:\n",
      "\n",
      "INFO:__main__:Validation Results\n",
      "INFO:__main__:Global Steps: 4689\n",
      "INFO:__main__:Valid Loss: 0.33841\n",
      "INFO:__main__:Valid Accuracy: 0.90410\n",
      "INFO:__main__:Saved model checkpoint to [DIR: output_cifar100]\n"
     ]
    },
    {
     "name": "stdout",
     "output_type": "stream",
     "text": [
      "Epoch [4/20], Step [0/1563], Loss: 1.1455\n",
      "Epoch [4/20], Step [200/1563], Loss: 1.3221\n",
      "Epoch [4/20], Step [400/1563], Loss: 0.9073\n",
      "Epoch [4/20], Step [600/1563], Loss: 0.9679\n",
      "Epoch [4/20], Step [800/1563], Loss: 0.8148\n",
      "Epoch [4/20], Step [1000/1563], Loss: 1.2354\n",
      "Epoch [4/20], Step [1200/1563], Loss: 1.4911\n",
      "Epoch [4/20], Step [1400/1563], Loss: 1.1919\n"
     ]
    },
    {
     "name": "stderr",
     "output_type": "stream",
     "text": [
      "INFO:__main__:***** Running Validation *****\n",
      "INFO:__main__:  Num steps = 313\n",
      "INFO:__main__:  Batch size = 32\n",
      "Validating... (loss=0.39038): 100%|| 313/313 [00:13<00:00, 22.78it/s]\n",
      "INFO:__main__:\n",
      "\n",
      "INFO:__main__:Validation Results\n",
      "INFO:__main__:Global Steps: 6252\n",
      "INFO:__main__:Valid Loss: 0.31388\n",
      "INFO:__main__:Valid Accuracy: 0.91050\n",
      "INFO:__main__:Saved model checkpoint to [DIR: output_cifar100]\n"
     ]
    },
    {
     "name": "stdout",
     "output_type": "stream",
     "text": [
      "Epoch [5/20], Step [0/1563], Loss: 0.8622\n",
      "Epoch [5/20], Step [200/1563], Loss: 2.4701\n",
      "Epoch [5/20], Step [400/1563], Loss: 0.8606\n",
      "Epoch [5/20], Step [600/1563], Loss: 2.9346\n",
      "Epoch [5/20], Step [800/1563], Loss: 0.8793\n",
      "Epoch [5/20], Step [1000/1563], Loss: 2.1524\n",
      "Epoch [5/20], Step [1200/1563], Loss: 2.9305\n",
      "Epoch [5/20], Step [1400/1563], Loss: 0.8819\n"
     ]
    },
    {
     "name": "stderr",
     "output_type": "stream",
     "text": [
      "INFO:__main__:***** Running Validation *****\n",
      "INFO:__main__:  Num steps = 313\n",
      "INFO:__main__:  Batch size = 32\n",
      "Validating... (loss=0.37901): 100%|| 313/313 [00:13<00:00, 22.68it/s]\n",
      "INFO:__main__:\n",
      "\n",
      "INFO:__main__:Validation Results\n",
      "INFO:__main__:Global Steps: 7815\n",
      "INFO:__main__:Valid Loss: 0.29847\n",
      "INFO:__main__:Valid Accuracy: 0.91280\n",
      "INFO:__main__:Saved model checkpoint to [DIR: output_cifar100]\n"
     ]
    },
    {
     "name": "stdout",
     "output_type": "stream",
     "text": [
      "Epoch [6/20], Step [0/1563], Loss: 2.9660\n",
      "Epoch [6/20], Step [200/1563], Loss: 0.8009\n",
      "Epoch [6/20], Step [400/1563], Loss: 2.5313\n",
      "Epoch [6/20], Step [600/1563], Loss: 0.8486\n",
      "Epoch [6/20], Step [800/1563], Loss: 1.9183\n",
      "Epoch [6/20], Step [1000/1563], Loss: 0.6645\n",
      "Epoch [6/20], Step [1200/1563], Loss: 1.5998\n",
      "Epoch [6/20], Step [1400/1563], Loss: 0.6780\n"
     ]
    },
    {
     "name": "stderr",
     "output_type": "stream",
     "text": [
      "INFO:__main__:***** Running Validation *****\n",
      "INFO:__main__:  Num steps = 313\n",
      "INFO:__main__:  Batch size = 32\n",
      "Validating... (loss=0.44262): 100%|| 313/313 [00:13<00:00, 22.59it/s]\n",
      "INFO:__main__:\n",
      "\n",
      "INFO:__main__:Validation Results\n",
      "INFO:__main__:Global Steps: 9378\n",
      "INFO:__main__:Valid Loss: 0.29233\n",
      "INFO:__main__:Valid Accuracy: 0.91310\n",
      "INFO:__main__:Saved model checkpoint to [DIR: output_cifar100]\n"
     ]
    },
    {
     "name": "stdout",
     "output_type": "stream",
     "text": [
      "Epoch [7/20], Step [0/1563], Loss: 0.7024\n",
      "Epoch [7/20], Step [200/1563], Loss: 0.5934\n",
      "Epoch [7/20], Step [400/1563], Loss: 2.8951\n",
      "Epoch [7/20], Step [600/1563], Loss: 0.4513\n",
      "Epoch [7/20], Step [800/1563], Loss: 2.7294\n",
      "Epoch [7/20], Step [1000/1563], Loss: 2.2048\n",
      "Epoch [7/20], Step [1200/1563], Loss: 1.0477\n",
      "Epoch [7/20], Step [1400/1563], Loss: 0.6031\n"
     ]
    },
    {
     "name": "stderr",
     "output_type": "stream",
     "text": [
      "INFO:__main__:***** Running Validation *****\n",
      "INFO:__main__:  Num steps = 313\n",
      "INFO:__main__:  Batch size = 32\n",
      "Validating... (loss=0.24647): 100%|| 313/313 [00:13<00:00, 22.57it/s]\n",
      "INFO:__main__:\n",
      "\n",
      "INFO:__main__:Validation Results\n",
      "INFO:__main__:Global Steps: 10941\n",
      "INFO:__main__:Valid Loss: 0.28986\n",
      "INFO:__main__:Valid Accuracy: 0.91190\n"
     ]
    },
    {
     "name": "stdout",
     "output_type": "stream",
     "text": [
      "Epoch [8/20], Step [0/1563], Loss: 1.9317\n",
      "Epoch [8/20], Step [200/1563], Loss: 1.1317\n",
      "Epoch [8/20], Step [400/1563], Loss: 0.9844\n",
      "Epoch [8/20], Step [600/1563], Loss: 0.8078\n",
      "Epoch [8/20], Step [800/1563], Loss: 1.3108\n",
      "Epoch [8/20], Step [1000/1563], Loss: 1.0042\n",
      "Epoch [8/20], Step [1200/1563], Loss: 2.3507\n",
      "Epoch [8/20], Step [1400/1563], Loss: 0.4620\n"
     ]
    },
    {
     "name": "stderr",
     "output_type": "stream",
     "text": [
      "INFO:__main__:***** Running Validation *****\n",
      "INFO:__main__:  Num steps = 313\n",
      "INFO:__main__:  Batch size = 32\n",
      "Validating... (loss=0.31495): 100%|| 313/313 [00:13<00:00, 22.59it/s]\n",
      "INFO:__main__:\n",
      "\n",
      "INFO:__main__:Validation Results\n",
      "INFO:__main__:Global Steps: 12504\n",
      "INFO:__main__:Valid Loss: 0.28391\n",
      "INFO:__main__:Valid Accuracy: 0.91690\n",
      "INFO:__main__:Saved model checkpoint to [DIR: output_cifar100]\n"
     ]
    },
    {
     "name": "stdout",
     "output_type": "stream",
     "text": [
      "Epoch [9/20], Step [0/1563], Loss: 0.4239\n",
      "Epoch [9/20], Step [200/1563], Loss: 0.5155\n",
      "Epoch [9/20], Step [400/1563], Loss: 2.5214\n",
      "Epoch [9/20], Step [600/1563], Loss: 2.5096\n",
      "Epoch [9/20], Step [800/1563], Loss: 2.5555\n",
      "Epoch [9/20], Step [1000/1563], Loss: 1.7304\n",
      "Epoch [9/20], Step [1200/1563], Loss: 2.5452\n",
      "Epoch [9/20], Step [1400/1563], Loss: 2.6002\n"
     ]
    },
    {
     "name": "stderr",
     "output_type": "stream",
     "text": [
      "INFO:__main__:***** Running Validation *****\n",
      "INFO:__main__:  Num steps = 313\n",
      "INFO:__main__:  Batch size = 32\n",
      "Validating... (loss=0.31587): 100%|| 313/313 [00:13<00:00, 22.66it/s]\n",
      "INFO:__main__:\n",
      "\n",
      "INFO:__main__:Validation Results\n",
      "INFO:__main__:Global Steps: 14067\n",
      "INFO:__main__:Valid Loss: 0.27687\n",
      "INFO:__main__:Valid Accuracy: 0.91890\n",
      "INFO:__main__:Saved model checkpoint to [DIR: output_cifar100]\n"
     ]
    },
    {
     "name": "stdout",
     "output_type": "stream",
     "text": [
      "Epoch [10/20], Step [0/1563], Loss: 2.1163\n",
      "Epoch [10/20], Step [200/1563], Loss: 0.5300\n",
      "Epoch [10/20], Step [400/1563], Loss: 1.9671\n",
      "Epoch [10/20], Step [600/1563], Loss: 1.6118\n",
      "Epoch [10/20], Step [800/1563], Loss: 2.0909\n",
      "Epoch [10/20], Step [1000/1563], Loss: 2.4298\n",
      "Epoch [10/20], Step [1200/1563], Loss: 1.9914\n",
      "Epoch [10/20], Step [1400/1563], Loss: 0.3159\n"
     ]
    },
    {
     "name": "stderr",
     "output_type": "stream",
     "text": [
      "INFO:__main__:***** Running Validation *****\n",
      "INFO:__main__:  Num steps = 313\n",
      "INFO:__main__:  Batch size = 32\n",
      "Validating... (loss=0.28527): 100%|| 313/313 [00:13<00:00, 22.57it/s]\n",
      "INFO:__main__:\n",
      "\n",
      "INFO:__main__:Validation Results\n",
      "INFO:__main__:Global Steps: 15630\n",
      "INFO:__main__:Valid Loss: 0.27988\n",
      "INFO:__main__:Valid Accuracy: 0.91640\n"
     ]
    },
    {
     "name": "stdout",
     "output_type": "stream",
     "text": [
      "Epoch [11/20], Step [0/1563], Loss: 0.4702\n",
      "Epoch [11/20], Step [200/1563], Loss: 0.8140\n",
      "Epoch [11/20], Step [400/1563], Loss: 0.5487\n",
      "Epoch [11/20], Step [600/1563], Loss: 2.7998\n",
      "Epoch [11/20], Step [800/1563], Loss: 2.2850\n",
      "Epoch [11/20], Step [1000/1563], Loss: 2.5562\n",
      "Epoch [11/20], Step [1200/1563], Loss: 0.5069\n",
      "Epoch [11/20], Step [1400/1563], Loss: 0.6345\n"
     ]
    },
    {
     "name": "stderr",
     "output_type": "stream",
     "text": [
      "INFO:__main__:***** Running Validation *****\n",
      "INFO:__main__:  Num steps = 313\n",
      "INFO:__main__:  Batch size = 32\n",
      "Validating... (loss=0.33843): 100%|| 313/313 [00:13<00:00, 22.81it/s]\n",
      "INFO:__main__:\n",
      "\n",
      "INFO:__main__:Validation Results\n",
      "INFO:__main__:Global Steps: 17193\n",
      "INFO:__main__:Valid Loss: 0.28940\n",
      "INFO:__main__:Valid Accuracy: 0.91350\n"
     ]
    },
    {
     "name": "stdout",
     "output_type": "stream",
     "text": [
      "Epoch [12/20], Step [0/1563], Loss: 0.5978\n",
      "Epoch [12/20], Step [200/1563], Loss: 0.4015\n",
      "Epoch [12/20], Step [400/1563], Loss: 2.1911\n",
      "Epoch [12/20], Step [600/1563], Loss: 0.4658\n",
      "Epoch [12/20], Step [800/1563], Loss: 2.0452\n",
      "Epoch [12/20], Step [1000/1563], Loss: 1.3677\n",
      "Epoch [12/20], Step [1200/1563], Loss: 0.6563\n",
      "Epoch [12/20], Step [1400/1563], Loss: 0.5592\n"
     ]
    },
    {
     "name": "stderr",
     "output_type": "stream",
     "text": [
      "INFO:__main__:***** Running Validation *****\n",
      "INFO:__main__:  Num steps = 313\n",
      "INFO:__main__:  Batch size = 32\n",
      "Validating... (loss=0.32967): 100%|| 313/313 [00:13<00:00, 22.69it/s]\n",
      "INFO:__main__:\n",
      "\n",
      "INFO:__main__:Validation Results\n",
      "INFO:__main__:Global Steps: 18756\n",
      "INFO:__main__:Valid Loss: 0.29365\n",
      "INFO:__main__:Valid Accuracy: 0.91220\n"
     ]
    },
    {
     "name": "stdout",
     "output_type": "stream",
     "text": [
      "Epoch [13/20], Step [0/1563], Loss: 1.9614\n",
      "Epoch [13/20], Step [200/1563], Loss: 0.7726\n",
      "Epoch [13/20], Step [400/1563], Loss: 0.4068\n",
      "Epoch [13/20], Step [600/1563], Loss: 1.9874\n",
      "Epoch [13/20], Step [800/1563], Loss: 2.4030\n",
      "Epoch [13/20], Step [1000/1563], Loss: 0.8770\n",
      "Epoch [13/20], Step [1200/1563], Loss: 0.4232\n",
      "Epoch [13/20], Step [1400/1563], Loss: 0.3112\n"
     ]
    },
    {
     "name": "stderr",
     "output_type": "stream",
     "text": [
      "INFO:__main__:***** Running Validation *****\n",
      "INFO:__main__:  Num steps = 313\n",
      "INFO:__main__:  Batch size = 32\n",
      "Validating... (loss=0.30395): 100%|| 313/313 [00:13<00:00, 22.66it/s]\n",
      "INFO:__main__:\n",
      "\n",
      "INFO:__main__:Validation Results\n",
      "INFO:__main__:Global Steps: 20319\n",
      "INFO:__main__:Valid Loss: 0.29376\n",
      "INFO:__main__:Valid Accuracy: 0.91230\n"
     ]
    },
    {
     "name": "stdout",
     "output_type": "stream",
     "text": [
      "Epoch [14/20], Step [0/1563], Loss: 2.8723\n",
      "Epoch [14/20], Step [200/1563], Loss: 0.5642\n",
      "Epoch [14/20], Step [400/1563], Loss: 1.1618\n",
      "Epoch [14/20], Step [600/1563], Loss: 2.3987\n",
      "Epoch [14/20], Step [800/1563], Loss: 2.3094\n",
      "Epoch [14/20], Step [1000/1563], Loss: 0.6829\n",
      "Epoch [14/20], Step [1200/1563], Loss: 1.0010\n",
      "Epoch [14/20], Step [1400/1563], Loss: 0.9856\n"
     ]
    },
    {
     "name": "stderr",
     "output_type": "stream",
     "text": [
      "INFO:__main__:***** Running Validation *****\n",
      "INFO:__main__:  Num steps = 313\n",
      "INFO:__main__:  Batch size = 32\n",
      "Validating... (loss=0.29931): 100%|| 313/313 [00:13<00:00, 22.88it/s]\n",
      "INFO:__main__:\n",
      "\n",
      "INFO:__main__:Validation Results\n",
      "INFO:__main__:Global Steps: 21882\n",
      "INFO:__main__:Valid Loss: 0.30840\n",
      "INFO:__main__:Valid Accuracy: 0.90850\n"
     ]
    },
    {
     "name": "stdout",
     "output_type": "stream",
     "text": [
      "Epoch [15/20], Step [0/1563], Loss: 0.2223\n",
      "Epoch [15/20], Step [200/1563], Loss: 2.1573\n",
      "Epoch [15/20], Step [400/1563], Loss: 0.4623\n",
      "Epoch [15/20], Step [600/1563], Loss: 2.0325\n",
      "Epoch [15/20], Step [800/1563], Loss: 1.1552\n",
      "Epoch [15/20], Step [1000/1563], Loss: 0.2470\n",
      "Epoch [15/20], Step [1200/1563], Loss: 1.0895\n",
      "Epoch [15/20], Step [1400/1563], Loss: 1.1975\n"
     ]
    },
    {
     "name": "stderr",
     "output_type": "stream",
     "text": [
      "INFO:__main__:***** Running Validation *****\n",
      "INFO:__main__:  Num steps = 313\n",
      "INFO:__main__:  Batch size = 32\n",
      "Validating... (loss=0.35850): 100%|| 313/313 [00:13<00:00, 22.75it/s]\n",
      "INFO:__main__:\n",
      "\n",
      "INFO:__main__:Validation Results\n",
      "INFO:__main__:Global Steps: 23445\n",
      "INFO:__main__:Valid Loss: 0.31242\n",
      "INFO:__main__:Valid Accuracy: 0.90730\n"
     ]
    },
    {
     "name": "stdout",
     "output_type": "stream",
     "text": [
      "Epoch [16/20], Step [0/1563], Loss: 2.3037\n",
      "Epoch [16/20], Step [200/1563], Loss: 0.6442\n",
      "Epoch [16/20], Step [400/1563], Loss: 1.2133\n",
      "Epoch [16/20], Step [600/1563], Loss: 2.2841\n",
      "Epoch [16/20], Step [800/1563], Loss: 0.7283\n",
      "Epoch [16/20], Step [1000/1563], Loss: 1.7652\n",
      "Epoch [16/20], Step [1200/1563], Loss: 1.9311\n",
      "Epoch [16/20], Step [1400/1563], Loss: 2.1245\n"
     ]
    },
    {
     "name": "stderr",
     "output_type": "stream",
     "text": [
      "INFO:__main__:***** Running Validation *****\n",
      "INFO:__main__:  Num steps = 313\n",
      "INFO:__main__:  Batch size = 32\n",
      "Validating... (loss=0.28381): 100%|| 313/313 [00:13<00:00, 22.64it/s]\n",
      "INFO:__main__:\n",
      "\n",
      "INFO:__main__:Validation Results\n",
      "INFO:__main__:Global Steps: 25008\n",
      "INFO:__main__:Valid Loss: 0.31264\n",
      "INFO:__main__:Valid Accuracy: 0.90760\n"
     ]
    },
    {
     "name": "stdout",
     "output_type": "stream",
     "text": [
      "Epoch [17/20], Step [0/1563], Loss: 1.9111\n",
      "Epoch [17/20], Step [200/1563], Loss: 1.6397\n",
      "Epoch [17/20], Step [400/1563], Loss: 1.0568\n",
      "Epoch [17/20], Step [600/1563], Loss: 0.3818\n",
      "Epoch [17/20], Step [800/1563], Loss: 2.0259\n",
      "Epoch [17/20], Step [1000/1563], Loss: 0.7992\n",
      "Epoch [17/20], Step [1200/1563], Loss: 0.2099\n",
      "Epoch [17/20], Step [1400/1563], Loss: 1.1448\n"
     ]
    },
    {
     "name": "stderr",
     "output_type": "stream",
     "text": [
      "INFO:__main__:***** Running Validation *****\n",
      "INFO:__main__:  Num steps = 313\n",
      "INFO:__main__:  Batch size = 32\n",
      "Validating... (loss=0.27384): 100%|| 313/313 [00:13<00:00, 22.71it/s]\n",
      "INFO:__main__:\n",
      "\n",
      "INFO:__main__:Validation Results\n",
      "INFO:__main__:Global Steps: 26571\n",
      "INFO:__main__:Valid Loss: 0.32333\n",
      "INFO:__main__:Valid Accuracy: 0.90590\n"
     ]
    },
    {
     "name": "stdout",
     "output_type": "stream",
     "text": [
      "Epoch [18/20], Step [0/1563], Loss: 1.5802\n",
      "Epoch [18/20], Step [200/1563], Loss: 0.3480\n",
      "Epoch [18/20], Step [400/1563], Loss: 0.7941\n",
      "Epoch [18/20], Step [600/1563], Loss: 1.1082\n",
      "Epoch [18/20], Step [800/1563], Loss: 0.7336\n",
      "Epoch [18/20], Step [1000/1563], Loss: 2.2251\n",
      "Epoch [18/20], Step [1200/1563], Loss: 0.4837\n",
      "Epoch [18/20], Step [1400/1563], Loss: 0.6399\n"
     ]
    },
    {
     "name": "stderr",
     "output_type": "stream",
     "text": [
      "INFO:__main__:***** Running Validation *****\n",
      "INFO:__main__:  Num steps = 313\n",
      "INFO:__main__:  Batch size = 32\n",
      "Validating... (loss=0.27757): 100%|| 313/313 [00:13<00:00, 22.79it/s]\n",
      "INFO:__main__:\n",
      "\n",
      "INFO:__main__:Validation Results\n",
      "INFO:__main__:Global Steps: 28134\n",
      "INFO:__main__:Valid Loss: 0.32418\n",
      "INFO:__main__:Valid Accuracy: 0.90400\n"
     ]
    },
    {
     "name": "stdout",
     "output_type": "stream",
     "text": [
      "Epoch [19/20], Step [0/1563], Loss: 0.5659\n",
      "Epoch [19/20], Step [200/1563], Loss: 0.5772\n",
      "Epoch [19/20], Step [400/1563], Loss: 1.3224\n",
      "Epoch [19/20], Step [600/1563], Loss: 2.2131\n",
      "Epoch [19/20], Step [800/1563], Loss: 0.2994\n",
      "Epoch [19/20], Step [1000/1563], Loss: 2.3132\n",
      "Epoch [19/20], Step [1200/1563], Loss: 0.4723\n",
      "Epoch [19/20], Step [1400/1563], Loss: 2.1584\n"
     ]
    },
    {
     "name": "stderr",
     "output_type": "stream",
     "text": [
      "INFO:__main__:***** Running Validation *****\n",
      "INFO:__main__:  Num steps = 313\n",
      "INFO:__main__:  Batch size = 32\n",
      "Validating... (loss=0.32977): 100%|| 313/313 [00:13<00:00, 22.74it/s]\n",
      "INFO:__main__:\n",
      "\n",
      "INFO:__main__:Validation Results\n",
      "INFO:__main__:Global Steps: 29697\n",
      "INFO:__main__:Valid Loss: 0.30818\n",
      "INFO:__main__:Valid Accuracy: 0.91410\n"
     ]
    },
    {
     "name": "stdout",
     "output_type": "stream",
     "text": [
      "Epoch [20/20], Step [0/1563], Loss: 0.5649\n",
      "Epoch [20/20], Step [200/1563], Loss: 0.6303\n",
      "Epoch [20/20], Step [400/1563], Loss: 2.2187\n",
      "Epoch [20/20], Step [600/1563], Loss: 0.3702\n",
      "Epoch [20/20], Step [800/1563], Loss: 0.5116\n",
      "Epoch [20/20], Step [1000/1563], Loss: 0.5822\n",
      "Epoch [20/20], Step [1200/1563], Loss: 2.1466\n",
      "Epoch [20/20], Step [1400/1563], Loss: 0.8542\n"
     ]
    },
    {
     "name": "stderr",
     "output_type": "stream",
     "text": [
      "INFO:__main__:***** Running Validation *****\n",
      "INFO:__main__:  Num steps = 313\n",
      "INFO:__main__:  Batch size = 32\n",
      "Validating... (loss=0.26761): 100%|| 313/313 [00:13<00:00, 22.60it/s]\n",
      "INFO:__main__:\n",
      "\n",
      "INFO:__main__:Validation Results\n",
      "INFO:__main__:Global Steps: 31260\n",
      "INFO:__main__:Valid Loss: 0.32521\n",
      "INFO:__main__:Valid Accuracy: 0.90840\n",
      "INFO:__main__:Best Accuracy: \t0.918900\n",
      "INFO:__main__:End Training!\n"
     ]
    }
   ],
   "source": [
    "train_accs, test_accs, train_losses, val_losses = main()"
   ]
  },
  {
   "cell_type": "code",
   "execution_count": 21,
   "metadata": {},
   "outputs": [],
   "source": [
    "train_acces_list = [acc.item()/100 for acc in train_accs]\n",
    "# test_acces_list = [acc.item() for acc in test_accs]"
   ]
  },
  {
   "cell_type": "code",
   "execution_count": 19,
   "metadata": {},
   "outputs": [
    {
     "name": "stdout",
     "output_type": "stream",
     "text": [
      "20\n",
      "20\n",
      "20\n",
      "20\n",
      "[tensor(17.2662, device='cuda:0', dtype=torch.float64), tensor(19.8784, device='cuda:0', dtype=torch.float64), tensor(20.5125, device='cuda:0', dtype=torch.float64), tensor(20.6385, device='cuda:0', dtype=torch.float64), tensor(21.0026, device='cuda:0', dtype=torch.float64), tensor(21.0032, device='cuda:0', dtype=torch.float64), tensor(21.0122, device='cuda:0', dtype=torch.float64), tensor(21.6468, device='cuda:0', dtype=torch.float64), tensor(21.6647, device='cuda:0', dtype=torch.float64), tensor(22.1132, device='cuda:0', dtype=torch.float64), tensor(22.2367, device='cuda:0', dtype=torch.float64), tensor(22.0704, device='cuda:0', dtype=torch.float64), tensor(22.1964, device='cuda:0', dtype=torch.float64), tensor(22.5022, device='cuda:0', dtype=torch.float64), tensor(22.3544, device='cuda:0', dtype=torch.float64), tensor(22.6999, device='cuda:0', dtype=torch.float64), tensor(22.5118, device='cuda:0', dtype=torch.float64), tensor(22.6155, device='cuda:0', dtype=torch.float64), tensor(22.7479, device='cuda:0', dtype=torch.float64), tensor(22.8989, device='cuda:0', dtype=torch.float64)]\n",
      "[0.8773, 0.8941, 0.9041, 0.9105, 0.9128, 0.9131, 0.9119, 0.9169, 0.9189, 0.9164, 0.9135, 0.9122, 0.9123, 0.9085, 0.9073, 0.9076, 0.9059, 0.904, 0.9141, 0.9084]\n",
      "[2.411472231168741, 1.759644181813785, 1.6228014915437936, 1.564928121574018, 1.5254502530785912, 1.5040473157083538, 1.4733813472535469, 1.4063258038992235, 1.4142513431880388, 1.348850244657397, 1.3311287128555416, 1.332877203507524, 1.3035315914998356, 1.289879474843723, 1.3183179429981926, 1.255271976907819, 1.2746741864365487, 1.2543714391645604, 1.2414401482435578, 1.2245706920288575]\n",
      "[0.593903938230996, 0.39298371868297316, 0.3384145264284679, 0.3138806900610558, 0.2984726184163802, 0.2923261762950748, 0.28986262188504297, 0.28390771722474606, 0.27687082171868593, 0.2798816750165277, 0.28939544588636856, 0.29364653147709446, 0.2937584019923648, 0.3084039607415565, 0.3124180623231985, 0.31263735907646223, 0.32333309353647616, 0.3241770499692367, 0.30818484437327603, 0.32521489174209367]\n"
     ]
    }
   ],
   "source": [
    "print(len(train_accs)) \n",
    "print(len(test_accs))\n",
    "print(len(train_losses))\n",
    "print(len(val_losses))\n",
    "print((train_accs)) \n",
    "print((test_accs))\n",
    "print((train_losses))\n",
    "print((val_losses))"
   ]
  },
  {
   "cell_type": "code",
   "execution_count": 22,
   "metadata": {},
   "outputs": [
    {
     "data": {
      "image/png": "[encoded data removed]",
      "text/plain": [
       "<Figure size 640x480 with 1 Axes>"
      ]
     },
     "metadata": {},
     "output_type": "display_data"
    }
   ],
   "source": [
    "plt.title(\"Train-Test Accuracy\")\n",
    "plt.plot(train_acces_list, label='Training acc')\n",
    "plt.plot(test_accs, label='Test acc')\n",
    "plt.xlabel('num_epochs')\n",
    "plt.ylabel('accuracy')\n",
    "plt.legend(frameon=False)\n",
    "plt.show()"
   ]
  },
  {
   "cell_type": "code",
   "execution_count": 23,
   "metadata": {},
   "outputs": [
    {
     "data": {
      "image/png": "[encoded data removed]",
      "text/plain": [
       "<Figure size 640x480 with 1 Axes>"
      ]
     },
     "metadata": {},
     "output_type": "display_data"
    }
   ],
   "source": [
    "plt.title(\"Train-Test Loss\")\n",
    "plt.plot(train_losses, label='Training loss')\n",
    "plt.plot(val_losses, label='Test loss')\n",
    "plt.xlabel('num_epochs')\n",
    "plt.ylabel('loss')\n",
    "plt.legend(frameon=False)\n",
    "plt.show()"
   ]
  },
  {
   "cell_type": "code",
   "execution_count": null,
   "metadata": {},
   "outputs": [],
   "source": []
  }
 ],
 "metadata": {
  "accelerator": "GPU",
  "colab": {
   "collapsed_sections": [],
   "name": "Pretrained_ViT_Final.ipynb",
   "provenance": []
  },
  "kaggle": {
   "accelerator": "nvidiaTeslaT4",
   "dataSources": [],
   "dockerImageVersionId": 30716,
   "isGpuEnabled": true,
   "isInternetEnabled": true,
   "language": "python",
   "sourceType": "notebook"
  },
  "kernelspec": {
   "display_name": "Python 3 (ipykernel)",
   "language": "python",
   "name": "python3"
  },
  "language_info": {
   "codemirror_mode": {
    "name": "ipython",
    "version": 3
   },
   "file_extension": ".py",
   "mimetype": "text/x-python",
   "name": "python",
   "nbconvert_exporter": "python",
   "pygments_lexer": "ipython3",
   "version": "3.10.8"
  },
  "vscode": {
   "interpreter": {
    "hash": "5f83657021d3e7f7bbdfbc3b688aa384959ec050c4f7436829bdc8dec9d50dcb"
   }
  },
  "widgets": {
   "application/vnd.jupyter.widget-state+json": {
    "15d5f58cb9454ed2adfedd53bae5b375": {
     "model_module": "@jupyter-widgets/controls",
     "model_name": "ProgressStyleModel",
     "state": {
      "_model_module": "@jupyter-widgets/controls",
      "_model_module_version": "1.5.0",
      "_model_name": "ProgressStyleModel",
      "_view_count": null,
      "_view_module": "@jupyter-widgets/base",
      "_view_module_version": "1.2.0",
      "_view_name": "StyleView",
      "bar_color": null,
      "description_width": "initial"
     }
    },
    "425296f574ff49258c84934ca5013aef": {
     "model_module": "@jupyter-widgets/base",
     "model_name": "LayoutModel",
     "state": {
      "_model_module": "@jupyter-widgets/base",
      "_model_module_version": "1.2.0",
      "_model_name": "LayoutModel",
      "_view_count": null,
      "_view_module": "@jupyter-widgets/base",
      "_view_module_version": "1.2.0",
      "_view_name": "LayoutView",
      "align_content": null,
      "align_items": null,
      "align_self": null,
      "border": null,
      "bottom": null,
      "display": null,
      "flex": null,
      "flex_flow": null,
      "grid_area": null,
      "grid_auto_columns": null,
      "grid_auto_flow": null,
      "grid_auto_rows": null,
      "grid_column": null,
      "grid_gap": null,
      "grid_row": null,
      "grid_template_areas": null,
      "grid_template_columns": null,
      "grid_template_rows": null,
      "height": null,
      "justify_content": null,
      "justify_items": null,
      "left": null,
      "margin": null,
      "max_height": null,
      "max_width": null,
      "min_height": null,
      "min_width": null,
      "object_fit": null,
      "object_position": null,
      "order": null,
      "overflow": null,
      "overflow_x": null,
      "overflow_y": null,
      "padding": null,
      "right": null,
      "top": null,
      "visibility": null,
      "width": null
     }
    },
    "54db82f6d0f34318baa919af209841ac": {
     "model_module": "@jupyter-widgets/controls",
     "model_name": "FloatProgressModel",
     "state": {
      "_dom_classes": [],
      "_model_module": "@jupyter-widgets/controls",
      "_model_module_version": "1.5.0",
      "_model_name": "FloatProgressModel",
      "_view_count": null,
      "_view_module": "@jupyter-widgets/controls",
      "_view_module_version": "1.5.0",
      "_view_name": "ProgressView",
      "bar_style": "info",
      "description": "",
      "description_tooltip": null,
      "layout": "IPY_MODEL_6fb6190cb4e24f12b8e4067ebbe7808f",
      "max": 1,
      "min": 0,
      "orientation": "horizontal",
      "style": "IPY_MODEL_15d5f58cb9454ed2adfedd53bae5b375",
      "value": 1
     }
    },
    "55d4e9ca535f4e14aab6daa655ccb8b9": {
     "model_module": "@jupyter-widgets/base",
     "model_name": "LayoutModel",
     "state": {
      "_model_module": "@jupyter-widgets/base",
      "_model_module_version": "1.2.0",
      "_model_name": "LayoutModel",
      "_view_count": null,
      "_view_module": "@jupyter-widgets/base",
      "_view_module_version": "1.2.0",
      "_view_name": "LayoutView",
      "align_content": null,
      "align_items": null,
      "align_self": null,
      "border": null,
      "bottom": null,
      "display": null,
      "flex": null,
      "flex_flow": null,
      "grid_area": null,
      "grid_auto_columns": null,
      "grid_auto_flow": null,
      "grid_auto_rows": null,
      "grid_column": null,
      "grid_gap": null,
      "grid_row": null,
      "grid_template_areas": null,
      "grid_template_columns": null,
      "grid_template_rows": null,
      "height": null,
      "justify_content": null,
      "justify_items": null,
      "left": null,
      "margin": null,
      "max_height": null,
      "max_width": null,
      "min_height": null,
      "min_width": null,
      "object_fit": null,
      "object_position": null,
      "order": null,
      "overflow": null,
      "overflow_x": null,
      "overflow_y": null,
      "padding": null,
      "right": null,
      "top": null,
      "visibility": null,
      "width": null
     }
    },
    "6fb6190cb4e24f12b8e4067ebbe7808f": {
     "model_module": "@jupyter-widgets/base",
     "model_name": "LayoutModel",
     "state": {
      "_model_module": "@jupyter-widgets/base",
      "_model_module_version": "1.2.0",
      "_model_name": "LayoutModel",
      "_view_count": null,
      "_view_module": "@jupyter-widgets/base",
      "_view_module_version": "1.2.0",
      "_view_name": "LayoutView",
      "align_content": null,
      "align_items": null,
      "align_self": null,
      "border": null,
      "bottom": null,
      "display": null,
      "flex": null,
      "flex_flow": null,
      "grid_area": null,
      "grid_auto_columns": null,
      "grid_auto_flow": null,
      "grid_auto_rows": null,
      "grid_column": null,
      "grid_gap": null,
      "grid_row": null,
      "grid_template_areas": null,
      "grid_template_columns": null,
      "grid_template_rows": null,
      "height": null,
      "justify_content": null,
      "justify_items": null,
      "left": null,
      "margin": null,
      "max_height": null,
      "max_width": null,
      "min_height": null,
      "min_width": null,
      "object_fit": null,
      "object_position": null,
      "order": null,
      "overflow": null,
      "overflow_x": null,
      "overflow_y": null,
      "padding": null,
      "right": null,
      "top": null,
      "visibility": null,
      "width": null
     }
    },
    "7123e5a6e2e3441c8c2cca74b2cec744": {
     "model_module": "@jupyter-widgets/controls",
     "model_name": "HTMLModel",
     "state": {
      "_dom_classes": [],
      "_model_module": "@jupyter-widgets/controls",
      "_model_module_version": "1.5.0",
      "_model_name": "HTMLModel",
      "_view_count": null,
      "_view_module": "@jupyter-widgets/controls",
      "_view_module_version": "1.5.0",
      "_view_name": "HTMLView",
      "description": "",
      "description_tooltip": null,
      "layout": "IPY_MODEL_425296f574ff49258c84934ca5013aef",
      "placeholder": "​",
      "style": "IPY_MODEL_f0661d48681c45cd8720ca1e611313cd",
      "value": " 169009152/? [00:20&lt;00:00, 100121030.00it/s]"
     }
    },
    "903dc034c1764747a83fec081f0dc101": {
     "model_module": "@jupyter-widgets/controls",
     "model_name": "HBoxModel",
     "state": {
      "_dom_classes": [],
      "_model_module": "@jupyter-widgets/controls",
      "_model_module_version": "1.5.0",
      "_model_name": "HBoxModel",
      "_view_count": null,
      "_view_module": "@jupyter-widgets/controls",
      "_view_module_version": "1.5.0",
      "_view_name": "HBoxView",
      "box_style": "",
      "children": [
       "IPY_MODEL_54db82f6d0f34318baa919af209841ac",
       "IPY_MODEL_7123e5a6e2e3441c8c2cca74b2cec744"
      ],
      "layout": "IPY_MODEL_55d4e9ca535f4e14aab6daa655ccb8b9"
     }
    },
    "f0661d48681c45cd8720ca1e611313cd": {
     "model_module": "@jupyter-widgets/controls",
     "model_name": "DescriptionStyleModel",
     "state": {
      "_model_module": "@jupyter-widgets/controls",
      "_model_module_version": "1.5.0",
      "_model_name": "DescriptionStyleModel",
      "_view_count": null,
      "_view_module": "@jupyter-widgets/base",
      "_view_module_version": "1.2.0",
      "_view_name": "StyleView",
      "description_width": ""
     }
    }
   }
  }
 },
 "nbformat": 4,
 "nbformat_minor": 4
}
